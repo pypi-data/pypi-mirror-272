{
 "cells": [
  {
   "cell_type": "markdown",
   "metadata": {
    "id": "agIhzotiEkja"
   },
   "source": [
    "# **Keras Visualizer Example 1**\n",
    "\n",
    "<a href=\"https://colab.research.google.com/github/mahyar-amiri/keras-visualizer/blob/master/examples/example1.ipynb\" target=\"_parent\"><img src=\"https://colab.research.google.com/assets/colab-badge.svg\" alt=\"Open In Colab\"/></a>"
   ]
  },
  {
   "cell_type": "markdown",
   "metadata": {
    "id": "y_FCcVi6CdFx"
   },
   "source": [
    "## install libraries"
   ]
  },
  {
   "cell_type": "code",
   "execution_count": null,
   "metadata": {
    "id": "0J7bKvbY8_kp",
    "vscode": {
     "languageId": "python"
    }
   },
   "outputs": [],
   "source": [
    "%pip install keras-visualizer"
   ]
  },
  {
   "cell_type": "markdown",
   "metadata": {
    "id": "dr2GfkOkCsgL"
   },
   "source": [
    "## Visualize Keras Model"
   ]
  },
  {
   "cell_type": "code",
   "execution_count": null,
   "metadata": {
    "id": "n3Ijf2H8At3f",
    "vscode": {
     "languageId": "python"
    }
   },
   "outputs": [],
   "source": [
    "from keras import models, layers\n",
    "from keras_visualizer import visualizer"
   ]
  },
  {
   "cell_type": "code",
   "execution_count": null,
   "metadata": {
    "id": "TORBnOqRBerR",
    "vscode": {
     "languageId": "python"
    }
   },
   "outputs": [],
   "source": [
    "model = models.Sequential([\n",
    "    layers.Dense(64, activation='relu', input_shape=(8,)),\n",
    "    layers.Dense(6, activation='softmax'),\n",
    "    layers.Dense(32),\n",
    "    layers.Dense(9, activation='sigmoid')\n",
    "])\n",
    "\n",
    "visualizer(model, file_name='example1', file_format='png')"
   ]
  },
  {
   "cell_type": "markdown",
   "metadata": {
    "id": "jZkXwLOcDHcA"
   },
   "source": [
    "## View Image in Notebook"
   ]
  },
  {
   "cell_type": "code",
   "execution_count": null,
   "metadata": {
    "id": "uPbJ28YyC-fs",
    "vscode": {
     "languageId": "python"
    }
   },
   "outputs": [],
   "source": [
    "from IPython.display import Image\n",
    "Image('example1.png')"
   ]
  }
 ],
 "metadata": {
  "colab": {
   "provenance": []
  },
  "kernelspec": {
   "display_name": "Python 3",
   "name": "python3"
  }
 },
 "nbformat": 4,
 "nbformat_minor": 0
}
