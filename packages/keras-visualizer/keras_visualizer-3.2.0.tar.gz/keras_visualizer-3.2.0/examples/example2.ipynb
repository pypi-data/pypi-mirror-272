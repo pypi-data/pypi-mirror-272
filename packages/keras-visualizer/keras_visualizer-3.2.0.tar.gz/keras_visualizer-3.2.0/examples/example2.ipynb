{
 "cells": [
  {
   "cell_type": "markdown",
   "metadata": {
    "id": "agIhzotiEkja"
   },
   "source": [
    "# **Keras Visualizer Example 2**\n",
    "\n",
    "<a href=\"https://colab.research.google.com/github/mahyar-amiri/keras-visualizer/blob/master/examples/example2.ipynb\" target=\"_parent\"><img src=\"https://colab.research.google.com/assets/colab-badge.svg\" alt=\"Open In Colab\"/></a>"
   ]
  },
  {
   "cell_type": "markdown",
   "metadata": {
    "id": "y_FCcVi6CdFx"
   },
   "source": [
    "## install libraries"
   ]
  },
  {
   "cell_type": "code",
   "execution_count": null,
   "metadata": {
    "id": "0J7bKvbY8_kp",
    "vscode": {
     "languageId": "python"
    }
   },
   "outputs": [],
   "source": [
    "%pip install keras-visualizer"
   ]
  },
  {
   "cell_type": "markdown",
   "metadata": {
    "id": "dr2GfkOkCsgL"
   },
   "source": [
    "## Visualize Keras Model"
   ]
  },
  {
   "cell_type": "code",
   "execution_count": null,
   "metadata": {
    "id": "n3Ijf2H8At3f",
    "vscode": {
     "languageId": "python"
    }
   },
   "outputs": [],
   "source": [
    "from keras import models, layers\n",
    "from keras_visualizer import visualizer"
   ]
  },
  {
   "cell_type": "code",
   "execution_count": null,
   "metadata": {
    "id": "TORBnOqRBerR",
    "vscode": {
     "languageId": "python"
    }
   },
   "outputs": [],
   "source": [
    "model = models.Sequential()\n",
    "model.add(layers.Conv2D(64, (3, 3), input_shape=(28, 28, 3), activation='relu'))\n",
    "model.add(layers.MaxPooling2D((2, 2)))\n",
    "model.add(layers.Flatten())\n",
    "model.add(layers.Dense(3))\n",
    "model.add(layers.Dropout(0.5))\n",
    "model.add(layers.Activation('sigmoid'))\n",
    "model.add(layers.Dense(1))\n",
    "\n",
    "visualizer(model, file_name='example2', file_format='png')"
   ]
  },
  {
   "cell_type": "markdown",
   "metadata": {
    "id": "jZkXwLOcDHcA"
   },
   "source": [
    "## View Image in Notebook"
   ]
  },
  {
   "cell_type": "code",
   "execution_count": null,
   "metadata": {
    "id": "uPbJ28YyC-fs",
    "vscode": {
     "languageId": "python"
    }
   },
   "outputs": [],
   "source": [
    "from IPython.display import Image\n",
    "Image('example2.png')"
   ]
  }
 ],
 "metadata": {
  "colab": {
   "provenance": []
  },
  "kernelspec": {
   "display_name": "Python 3",
   "name": "python3"
  }
 },
 "nbformat": 4,
 "nbformat_minor": 0
}
