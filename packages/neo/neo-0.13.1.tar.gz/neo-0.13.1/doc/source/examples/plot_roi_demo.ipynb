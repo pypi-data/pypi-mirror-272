{
  "cells": [
    {
      "cell_type": "markdown",
      "metadata": {},
      "source": [
        "\n# Working with RegionOfInterest objects\n"
      ]
    },
    {
      "cell_type": "markdown",
      "metadata": {},
      "source": [
        "Import our packages\nWe can import a variety of neo objects from neo.core and since an ImageSquence\nalso uses units let's import quantities which is the \"units\" library\nthat neo uses under the hood\n\n"
      ]
    },
    {
      "cell_type": "code",
      "execution_count": null,
      "metadata": {
        "collapsed": false
      },
      "outputs": [],
      "source": [
        "import matplotlib.pyplot as plt\nimport numpy as np\nfrom neo.core import CircularRegionOfInterest, RectangularRegionOfInterest, PolygonRegionOfInterest, ImageSequence\nfrom numpy.random import rand\nimport random\nimport quantities as pq"
      ]
    },
    {
      "cell_type": "markdown",
      "metadata": {},
      "source": [
        "First we create our image_sequence. Let's generate some data\nIn this simulated dataset we will just make an image that is\n100x100 pixels and then we will make 50 frames of this image\nfinally we will fill with random values for the data\n\n"
      ]
    },
    {
      "cell_type": "code",
      "execution_count": null,
      "metadata": {
        "collapsed": false
      },
      "outputs": [],
      "source": [
        "l = []\nfor frame in range(50):\n    l.append([])\n    for y in range(100):\n        l[frame].append([])\n        for x in range(100):\n            l[frame][y].append(random.randint(0, 50))\n\n# make an ImageSquence in Neo\nimage_seq = ImageSequence(l, sampling_rate=500 * pq.Hz, spatial_scale=\"m\", units=\"V\")"
      ]
    },
    {
      "cell_type": "markdown",
      "metadata": {},
      "source": [
        "Now we will write a function for plotting an roi\n\n"
      ]
    },
    {
      "cell_type": "code",
      "execution_count": null,
      "metadata": {
        "collapsed": false
      },
      "outputs": [],
      "source": [
        "def plot_roi(roi, shape):\n    img = rand(120, 100)\n    pir = np.array(roi.pixels_in_region()).T\n    img[pir[1], pir[0]] = 5\n\n    plt.imshow(img, cmap=\"gray_r\")\n    plt.clim(0, 5)\n\n    ax = plt.gca()\n    ax.add_artist(shape)"
      ]
    },
    {
      "cell_type": "markdown",
      "metadata": {},
      "source": [
        "Finally we will plot each roi to demonstrate how we could high regions of interest\n\n"
      ]
    },
    {
      "cell_type": "code",
      "execution_count": null,
      "metadata": {
        "collapsed": false
      },
      "outputs": [],
      "source": [
        "# First a nice circle\nroi = CircularRegionOfInterest(image_sequence=image_seq, x=50.3, y=50.8, radius=30.2)\nshape = plt.Circle(roi.centre, roi.radius, color=\"r\", fill=False)\nplt.subplot(1, 3, 1)\nplot_roi(roi, shape)\n\n# Next a rectangle\nroi = RectangularRegionOfInterest(image_sequence=image_seq, x=50.3, y=40.2, width=40.1, height=50.3)\nshape = plt.Rectangle((roi.x - roi.width / 2.0, roi.y - roi.height / 2.0), roi.width, roi.height, color=\"r\", fill=False)\nplt.subplot(1, 3, 2)\nplot_roi(roi, shape)\n\n# Finally we can make a polygon (in this case a triangle)\nroi = PolygonRegionOfInterest(image_seq, (20.3, 30.2), (80.7, 30.1), (55.2, 59.4))\nshape = plt.Polygon(np.array(roi.vertices), closed=True, color=\"r\", fill=False)\nplt.subplot(1, 3, 3)\nplot_roi(roi, shape)\n\nplt.tight_layout()\nplt.show()"
      ]
    }
  ],
  "metadata": {
    "kernelspec": {
      "display_name": "Python 3",
      "language": "python",
      "name": "python3"
    },
    "language_info": {
      "codemirror_mode": {
        "name": "ipython",
        "version": 3
      },
      "file_extension": ".py",
      "mimetype": "text/x-python",
      "name": "python",
      "nbconvert_exporter": "python",
      "pygments_lexer": "ipython3",
      "version": "3.11.4"
    }
  },
  "nbformat": 4,
  "nbformat_minor": 0
}