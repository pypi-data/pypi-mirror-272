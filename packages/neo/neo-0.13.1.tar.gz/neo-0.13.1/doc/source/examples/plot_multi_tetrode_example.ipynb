{
  "cells": [
    {
      "cell_type": "markdown",
      "metadata": {},
      "source": [
        "\n# Analyzing and Plotting Data with Neo Structures\n"
      ]
    },
    {
      "cell_type": "markdown",
      "metadata": {},
      "source": [
        "First we import some packages. Since we are making simulated\ndata we will import quite a few neo features as well as use\nquantities to provide units\n\n"
      ]
    },
    {
      "cell_type": "code",
      "execution_count": null,
      "metadata": {
        "collapsed": false
      },
      "outputs": [],
      "source": [
        "from itertools import cycle\nimport numpy as np\nfrom quantities import ms, mV, kHz\nimport matplotlib.pyplot as plt\nfrom neo import Block, Segment, ChannelView, Group, SpikeTrain, AnalogSignal"
      ]
    },
    {
      "cell_type": "markdown",
      "metadata": {},
      "source": [
        "For Neo we start with a block of data that will contain segments of data\nso we will create a block of probe data that has a couple tetrodes\nThen we will load in 3 segments (for examples trials of a stimulus)\n\n"
      ]
    },
    {
      "cell_type": "code",
      "execution_count": null,
      "metadata": {
        "collapsed": false
      },
      "outputs": [],
      "source": [
        "store_signals = False\n\nblock = Block(name=\"probe data\", tetrode_ids=[\"Tetrode #1\", \"Tetrode #2\"])\nblock.segments = [\n    Segment(name=\"trial #1\", index=0),\n    Segment(name=\"trial #2\", index=1),\n    Segment(name=\"trial #3\", index=2),\n]\n\n# we will decide how many units each tetrode has found. If only science was this easy\nn_units = {\"Tetrode #1\": 2, \"Tetrode #2\": 5}"
      ]
    },
    {
      "cell_type": "markdown",
      "metadata": {},
      "source": [
        "Neo can also have groups. Groups are structures within a block that can cross segments\nfor example we could group a neuron across trials or across probes.\n\n"
      ]
    },
    {
      "cell_type": "code",
      "execution_count": null,
      "metadata": {
        "collapsed": false
      },
      "outputs": [],
      "source": [
        "# Create a group for each neuron, annotate each group with the tetrode from which it was recorded\ngroups = []\ncounter = 0\nfor tetrode_id, n in n_units.items():\n    groups.extend([Group(name=f\"neuron #{counter + i + 1}\", tetrode_id=tetrode_id) for i in range(n)])\n    counter += n\nblock.groups.extend(groups)\n\niter_group = cycle(groups)"
      ]
    },
    {
      "cell_type": "markdown",
      "metadata": {},
      "source": [
        "Segments are also containers of data. Segments can hold raw signal data like an AnalogSignal\nSegments can also hold spiketrain data (in a SpikeTrain). It can also hold event data (which\nwe are not show in this example)\n\n"
      ]
    },
    {
      "cell_type": "code",
      "execution_count": null,
      "metadata": {
        "collapsed": false
      },
      "outputs": [],
      "source": [
        "# Create dummy data, one segment at a time\nfor segment in block.segments:\n\n    # create two 4-channel AnalogSignals with simulated data (because we have two tetrodes!)\n    # note that the AnalogSignal with have numpy array-like data with units and sampling rates\n    # Neo keeps track of these units while also giving you the flexibility of treating the raw data\n    # like a numpy array\n    signals = {\n        \"Tetrode #1\": AnalogSignal(np.random.rand(1000, 4) * mV, sampling_rate=10 * kHz, tetrode_id=\"Tetrode #1\"),\n        \"Tetrode #2\": AnalogSignal(np.random.rand(1000, 4) * mV, sampling_rate=10 * kHz, tetrode_id=\"Tetrode #2\"),\n    }\n    if store_signals:\n        segment.analogsignals.extend(signals.values())\n\n    # create spike trains with simulated data\n    # we will pretend the spikes have been extracted from the simulated signal\n    for tetrode_id in (\"Tetrode #1\", \"Tetrode #2\"):\n        for i in range(n_units[tetrode_id]):\n            spiketrain = SpikeTrain(np.random.uniform(0, 100, size=30) * ms, t_stop=100 * ms)\n            # assign each spiketrain to the appropriate segment\n            segment.spiketrains.append(spiketrain)\n            # assign each spiketrain to a given neuron\n            current_group = next(iter_group)\n            current_group.add(spiketrain)\n            if store_signals:\n                # add to the group a reference to the signal from which the spikes were obtained\n                # this does not give a 1:1 correspondance between spike trains and signals,\n                # for that we could use additional groups (and have groups of groups)\n                current_group.add(signals[tetrode_id])"
      ]
    },
    {
      "cell_type": "markdown",
      "metadata": {},
      "source": [
        "Now we will plot the data\nNeo doesn't provide it's own plotting functions, but\nsince its data can be treated like numpy arrays\nit is easy to use standard packages like matplotlib\nfor all your plotting needs\nWe do a classic in neuroscience and show various ways\nto plot a PSTH (Peristimulus histogram)\n\n"
      ]
    },
    {
      "cell_type": "markdown",
      "metadata": {},
      "source": [
        ".. by trial\n\n"
      ]
    },
    {
      "cell_type": "code",
      "execution_count": null,
      "metadata": {
        "collapsed": false
      },
      "outputs": [],
      "source": [
        "plt.figure()\nfor seg in block.segments:\n    print(f\"Analyzing segment {seg.index}\")\n    stlist = [st - st.t_start for st in seg.spiketrains]\n    plt.subplot(len(block.segments), 1, seg.index + 1)\n    count, bins = np.histogram(stlist)\n    plt.bar(bins[:-1], count, width=bins[1] - bins[0])\n    plt.title(f\"PSTH in segment {seg.index}\")\nplt.tight_layout()\nplt.show()"
      ]
    },
    {
      "cell_type": "markdown",
      "metadata": {},
      "source": [
        "..by neuron\n\n"
      ]
    },
    {
      "cell_type": "code",
      "execution_count": null,
      "metadata": {
        "collapsed": false
      },
      "outputs": [],
      "source": [
        "plt.figure()\nfor i, group in enumerate(block.groups):\n    stlist = [st - st.t_start for st in group.spiketrains]\n    plt.subplot(len(block.groups), 1, i + 1)\n    count, bins = np.histogram(stlist)\n    plt.bar(bins[:-1], count, width=bins[1] - bins[0])\n    plt.title(f\"PSTH of unit {group.name}\")\nplt.tight_layout()\nplt.show()"
      ]
    },
    {
      "cell_type": "markdown",
      "metadata": {},
      "source": [
        "..by tetrode (or other electrode number)\n\n"
      ]
    },
    {
      "cell_type": "code",
      "execution_count": null,
      "metadata": {
        "collapsed": false
      },
      "outputs": [],
      "source": [
        "plt.figure()\nfor i, tetrode_id in enumerate(block.annotations[\"tetrode_ids\"]):\n    stlist = []\n    for unit in block.filter(objects=Group, tetrode_id=tetrode_id):\n        stlist.extend([st - st.t_start for st in unit.spiketrains])\n    plt.subplot(2, 1, i + 1)\n    count, bins = np.histogram(stlist)\n    plt.bar(bins[:-1], count, width=bins[1] - bins[0])\n    plt.title(f\"PSTH blend of tetrode {tetrode_id}\")\nplt.tight_layout()\nplt.show()"
      ]
    }
  ],
  "metadata": {
    "kernelspec": {
      "display_name": "Python 3",
      "language": "python",
      "name": "python3"
    },
    "language_info": {
      "codemirror_mode": {
        "name": "ipython",
        "version": 3
      },
      "file_extension": ".py",
      "mimetype": "text/x-python",
      "name": "python",
      "nbconvert_exporter": "python",
      "pygments_lexer": "ipython3",
      "version": "3.11.4"
    }
  },
  "nbformat": 4,
  "nbformat_minor": 0
}