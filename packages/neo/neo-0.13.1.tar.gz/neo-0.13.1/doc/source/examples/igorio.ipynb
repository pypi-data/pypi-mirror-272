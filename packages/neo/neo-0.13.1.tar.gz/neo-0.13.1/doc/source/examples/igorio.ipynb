{
  "cells": [
    {
      "cell_type": "markdown",
      "metadata": {},
      "source": [
        "\n# IgorProIO Demo\n"
      ]
    },
    {
      "cell_type": "code",
      "execution_count": null,
      "metadata": {
        "collapsed": false
      },
      "outputs": [],
      "source": [
        "import os\nfrom urllib.request import urlretrieve\nimport zipfile\nimport matplotlib.pyplot as plt\nfrom neo.io import get_io\n\n\n# Downloaded from Human Brain Project Collaboratory\n# Digital Reconstruction of Neocortical Microcircuitry (nmc-portal)\n# http://microcircuits.epfl.ch/#/animal/8ecde7d1-b2d2-11e4-b949-6003088da632\ndatafile_url = \"https://microcircuits.epfl.ch/data/released_data/B95.zip\"\nfilename_zip = \"B95.zip\"\nfilename = \"grouped_ephys/B95/B95_Ch0_IDRest_107.ibw\"\nurlretrieve(datafile_url, filename_zip)\n\nzip_ref = zipfile.ZipFile(filename_zip)  # create zipfile object\nzip_ref.extract(path=\".\", member=filename)  # extract file to dir\nzip_ref.close()\n\n\nreader = get_io(filename)\nsignal = reader.read_analogsignal()\nplt.plot(signal.times, signal)\nplt.xlabel(signal.sampling_period.dimensionality)\nplt.ylabel(signal.dimensionality)"
      ]
    }
  ],
  "metadata": {
    "kernelspec": {
      "display_name": "Python 3",
      "language": "python",
      "name": "python3"
    },
    "language_info": {
      "codemirror_mode": {
        "name": "ipython",
        "version": 3
      },
      "file_extension": ".py",
      "mimetype": "text/x-python",
      "name": "python",
      "nbconvert_exporter": "python",
      "pygments_lexer": "ipython3",
      "version": "3.11.4"
    }
  },
  "nbformat": 4,
  "nbformat_minor": 0
}