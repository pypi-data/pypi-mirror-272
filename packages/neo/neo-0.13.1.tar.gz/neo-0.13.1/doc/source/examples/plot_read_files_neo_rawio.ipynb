{
  "cells": [
    {
      "cell_type": "markdown",
      "metadata": {},
      "source": [
        "\n# Reading files with neo.rawio\n\ncompare with read_files_neo_io.py\n"
      ]
    },
    {
      "cell_type": "markdown",
      "metadata": {},
      "source": [
        "First we import a RawIO from neo.rawio\nFor this example we will use PlexonRawIO\n\n"
      ]
    },
    {
      "cell_type": "code",
      "execution_count": null,
      "metadata": {
        "collapsed": false
      },
      "outputs": [],
      "source": [
        "import urllib\nfrom neo.rawio import PlexonRawIO"
      ]
    },
    {
      "cell_type": "markdown",
      "metadata": {},
      "source": [
        "Get Plexon files\n\n"
      ]
    },
    {
      "cell_type": "code",
      "execution_count": null,
      "metadata": {
        "collapsed": false
      },
      "outputs": [],
      "source": [
        "# We will be pulling these files down, but if you have a local file\n# then all you need to do is specify the file location on your\n# computer. NeuralEnsemble keeps a wide variety of freely accesible, small\n# test files that can be used. So for this example we will take advantage of that\n# fact.\n\nurl_repo = \"https://web.gin.g-node.org/NeuralEnsemble/ephy_testing_data/raw/master/\"\ndistantfile = url_repo + \"plexon/File_plexon_3.plx\"\nlocalfile = \"File_plexon_3.plx\"\nurllib.request.urlretrieve(distantfile, localfile)"
      ]
    },
    {
      "cell_type": "markdown",
      "metadata": {},
      "source": [
        "Create a reader\n\n"
      ]
    },
    {
      "cell_type": "code",
      "execution_count": null,
      "metadata": {
        "collapsed": false
      },
      "outputs": [],
      "source": [
        "# All it takes to create a reader is giving the filename (or dirname)\n# Then we need to do the slow step of parsing the header with the\n# `parse_header` function. This collects metadata as well as\n# make all future steps much faster for us\n\nreader = PlexonRawIO(filename=\"File_plexon_3.plx\")\nreader.parse_header()\nprint(reader)\n# we can view metadata in the header\nprint(reader.header)"
      ]
    },
    {
      "cell_type": "markdown",
      "metadata": {},
      "source": [
        "Read signal chunks\nThis is how we read raw data. We choose indices that we want or\nwe can use None to mean look at all channels. We also need to\nspecify the block of data (block_index) as well as the segment\n(seg_index). Then we give the index start and stop. Since we\noften think in time: to go from time to index would just require\nthe sample rate (so index = time / sampling_rate)\n\n"
      ]
    },
    {
      "cell_type": "code",
      "execution_count": null,
      "metadata": {
        "collapsed": false
      },
      "outputs": [],
      "source": [
        "channel_indexes = None  # could be channel_indexes = [0]\nraw_sigs = reader.get_analogsignal_chunk(\n    block_index=0, seg_index=0, i_start=1024, i_stop=2048, channel_indexes=channel_indexes\n)\n\n# raw_sigs are not voltages so to convert to voltages we do the follwing\nfloat_sigs = reader.rescale_signal_raw_to_float(raw_sigs, dtype=\"float64\")\n\n# We can see that the shapes are the same, but that the datatypes\n# are different once we've rescaled our data\nprint(\"Raw Data: \", raw_sigs.shape, raw_sigs.dtype)\nprint(\"Scaled Data: \", float_sigs.shape, float_sigs.dtype)"
      ]
    },
    {
      "cell_type": "markdown",
      "metadata": {},
      "source": [
        "Each rawio gives you access to lots of information about your data\nsome of this information comes from functions\nother information is stored as metadata in the reader.header\n\n"
      ]
    },
    {
      "cell_type": "code",
      "execution_count": null,
      "metadata": {
        "collapsed": false
      },
      "outputs": [],
      "source": [
        "sampling_rate = reader.get_signal_sampling_rate()\n# Like above we need to indicate the block and segment\nt_start = reader.get_signal_t_start(block_index=0, seg_index=0)\nunits = reader.header[\"signal_channels\"][0][\"units\"]\n\n# and we can display all of this information\nprint(f\"{sampling_rate=}, {t_start=}, {units=}\")"
      ]
    },
    {
      "cell_type": "markdown",
      "metadata": {},
      "source": [
        "Some rawio's and file formats also provide information about spikes\nIf a rawio can't read this data it will raise an error, but lucky\nfor us PlexonRawIO does have spikes data!!\n\n"
      ]
    },
    {
      "cell_type": "code",
      "execution_count": null,
      "metadata": {
        "collapsed": false
      },
      "outputs": [],
      "source": [
        "# Count units and spikes per unit\nnb_unit = reader.spike_channels_count()\nprint(f\"nb_unit: {nb_unit}\\n\")  # nb_unit stands for number of units\nprint(\"spike_channel_index     nb_spike\")\nfor spike_channel_index in range(nb_unit):\n    nb_spike = reader.spike_count(block_index=0, seg_index=0, spike_channel_index=spike_channel_index)\n    print(f\"{spike_channel_index}: {nb_spike}\\n\")\n\n# Read spike times and rescale (just like analogsignal above)\nspike_timestamps = reader.get_spike_timestamps(\n    block_index=0, seg_index=0, spike_channel_index=0, t_start=0.0, t_stop=10.0\n)\n\nprint(f\"{spike_timestamps.shape=}\\n{spike_timestamps.dtype=}\\n{spike_timestamps[:5]=}\\n\")\nspike_times = reader.rescale_spike_timestamp(spike_timestamps, dtype=\"float64\")\nprint(f\"{spike_times.shape=}\\n{spike_times.dtype=}\\n{spike_times[:5]}\\n\")"
      ]
    },
    {
      "cell_type": "markdown",
      "metadata": {},
      "source": [
        "Some file formats can also give waveform information. We are lucky\nagain our file has waveform data!! We forms are a 3d dataset of\n(nb_spike, nb_channel, nb_sample)\n\n"
      ]
    },
    {
      "cell_type": "code",
      "execution_count": null,
      "metadata": {
        "collapsed": false
      },
      "outputs": [],
      "source": [
        "# Read spike waveforms\nraw_waveforms = reader.get_spike_raw_waveforms(\n    block_index=0, seg_index=0, spike_channel_index=0, t_start=0.0, t_stop=10.0\n)\nprint(f\"{raw_waveforms.shape=}\\n{raw_waveforms.dtype=}\\n{raw_waveforms[0, 0, :4]=}\\n\")\nfloat_waveforms = reader.rescale_waveforms_to_float(raw_waveforms, dtype=\"float32\", spike_channel_index=0)\nprint(f\"{float_waveforms.shape=}\\n{float_waveforms.dtype=}{float_waveforms[0, 0, :4]=}\\n\")"
      ]
    },
    {
      "cell_type": "markdown",
      "metadata": {},
      "source": [
        "RawIOs can also read event timestamps. But looks like our luck ran out\nlet's grab a new file to see this feature\n\n"
      ]
    },
    {
      "cell_type": "code",
      "execution_count": null,
      "metadata": {
        "collapsed": false
      },
      "outputs": [],
      "source": [
        "# Read event timestamps and times (take another file)\ndistantfile = url_repo + \"plexon/File_plexon_2.plx\"\nlocalfile = \"File_plexon_2.plx\"\nurllib.request.urlretrieve(distantfile, localfile)"
      ]
    },
    {
      "cell_type": "markdown",
      "metadata": {},
      "source": [
        "Since this is a new file we need to read initialize our reader as well\nas parse the header\n\n"
      ]
    },
    {
      "cell_type": "code",
      "execution_count": null,
      "metadata": {
        "collapsed": false
      },
      "outputs": [],
      "source": [
        "reader = PlexonRawIO(filename=\"File_plexon_2.plx\")\nreader.parse_header()\n# if we look at this header we see it is different than the header above\nprint(reader.header)"
      ]
    },
    {
      "cell_type": "markdown",
      "metadata": {},
      "source": [
        "Now let's look at some event data. This could be things like stimuli applied\nduring the course of an ephys recording\n\n"
      ]
    },
    {
      "cell_type": "code",
      "execution_count": null,
      "metadata": {
        "collapsed": false
      },
      "outputs": [],
      "source": [
        "nb_event_channel = reader.event_channels_count()\nprint(f\"nb_event_channel: {nb_event_channel}\")\n# now iterate through the channels\nfor chan_index in range(nb_event_channel):\n    nb_event = reader.event_count(block_index=0, seg_index=0, event_channel_index=chan_index)\n    print(f\"chan_index: {chan_index} nb_event: {nb_event}\\n\")"
      ]
    },
    {
      "cell_type": "markdown",
      "metadata": {},
      "source": [
        "Finally we can get our actual event timestamps. Some file formats provide the\nreal timestamps (timestamps in s/ms) others have raw timestamps (in samples)\nso we can do the same style of functions as above. Get the raw timestamps\nand convert to real times with a rescale function.\n\n"
      ]
    },
    {
      "cell_type": "code",
      "execution_count": null,
      "metadata": {
        "collapsed": false
      },
      "outputs": [],
      "source": [
        "ev_timestamps, ev_durations, ev_labels = reader.get_event_timestamps(\n    block_index=0, seg_index=0, event_channel_index=0, t_start=None, t_stop=None\n)\nprint(f\"{ev_timestamps=}\\n{ev_durations=}\\n{ev_labels=}\\n\")\nev_times = reader.rescale_event_timestamp(ev_timestamps, dtype=\"float64\")\nprint(f\"{ev_times=}\\n\")"
      ]
    }
  ],
  "metadata": {
    "kernelspec": {
      "display_name": "Python 3",
      "language": "python",
      "name": "python3"
    },
    "language_info": {
      "codemirror_mode": {
        "name": "ipython",
        "version": 3
      },
      "file_extension": ".py",
      "mimetype": "text/x-python",
      "name": "python",
      "nbconvert_exporter": "python",
      "pygments_lexer": "ipython3",
      "version": "3.11.4"
    }
  },
  "nbformat": 4,
  "nbformat_minor": 0
}