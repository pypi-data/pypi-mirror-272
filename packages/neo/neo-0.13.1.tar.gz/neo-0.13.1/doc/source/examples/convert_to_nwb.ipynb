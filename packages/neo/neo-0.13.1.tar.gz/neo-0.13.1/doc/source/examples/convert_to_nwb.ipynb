{
  "cells": [
    {
      "cell_type": "markdown",
      "metadata": {},
      "source": [
        "\n# Converting to NWB using Neo\n"
      ]
    },
    {
      "cell_type": "code",
      "execution_count": null,
      "metadata": {
        "collapsed": false
      },
      "outputs": [],
      "source": [
        "from urllib.request import urlretrieve\nfrom urllib.parse import quote\nfrom neo.io import get_io\n\n\ndataset_url = \"https://object.cscs.ch/v1/AUTH_63ea6845b1d34ad7a43c8158d9572867/hbp-d000017_PatchClamp-GranuleCells_pub\"\n\nfolder = \"GrC_Subject15_180116\"\n\n# filenames = [\"180116_0004 IV -70.abf\", \"180116_0005 CC step.abf\", \"180116_0006 EPSP.abf\"]\nfilenames = [\"180116_0005 CC step.abf\"]\n\nfor filename in filenames:\n    datafile_url = f\"{dataset_url}/{folder}/{quote(filename)}\"\n    local_file = urlretrieve(datafile_url, filename)\n\n\nreader = get_io(\"180116_0005 CC step.abf\")\ndata = reader.read()\n\nglobal_metadata = {\n    \"session_start_time\": data[0].rec_datetime,\n    \"identifier\": data[0].file_origin,\n    \"session_id\": \"180116_0005\",\n    \"institution\": \"University of Pavia\",\n    \"lab\": \"D'Angelo Lab\",\n    \"related_publications\": \"https://doi.org/10.1038/s42003-020-0953-x\",\n}\n\n# data[0].annotate(**global_metadata)\n\nsignal_metadata = {\n    \"nwb_group\": \"acquisition\",\n    \"nwb_neurodata_type\": (\"pynwb.icephys\", \"PatchClampSeries\"),\n    \"nwb_electrode\": {\n        \"name\": \"patch clamp electrode\",\n        \"description\": \"The patch-clamp pipettes were pulled from borosilicate glass capillaries \"\n        \"(Hilgenberg, Malsfeld, Germany) and filled with intracellular solution \"\n        \"(K-gluconate based solution)\",\n        \"device\": {\"name\": \"patch clamp electrode\"},\n    },\n    \"nwb:gain\": 1.0,\n}\n\nfor segment in data[0].segments:\n    signal = segment.analogsignals[0]\n    signal.annotate(**signal_metadata)\n\nfrom neo.io import NWBIO\n\nwriter = NWBIO(\"GrC_Subject15_180116.nwb\", mode=\"w\", **global_metadata)\nwriter.write(data)"
      ]
    }
  ],
  "metadata": {
    "kernelspec": {
      "display_name": "Python 3",
      "language": "python",
      "name": "python3"
    },
    "language_info": {
      "codemirror_mode": {
        "name": "ipython",
        "version": 3
      },
      "file_extension": ".py",
      "mimetype": "text/x-python",
      "name": "python",
      "nbconvert_exporter": "python",
      "pygments_lexer": "ipython3",
      "version": "3.11.4"
    }
  },
  "nbformat": 4,
  "nbformat_minor": 0
}