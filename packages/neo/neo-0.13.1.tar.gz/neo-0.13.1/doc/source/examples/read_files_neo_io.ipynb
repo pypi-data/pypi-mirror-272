{
  "cells": [
    {
      "cell_type": "markdown",
      "metadata": {},
      "source": [
        "\n# Reading files with neo.io\n"
      ]
    },
    {
      "cell_type": "code",
      "execution_count": null,
      "metadata": {
        "collapsed": false
      },
      "outputs": [],
      "source": [
        "import urllib\n\nimport neo\n\nurl_repo = \"https://web.gin.g-node.org/NeuralEnsemble/ephy_testing_data/raw/master/\"\n\n# Plexon files\ndistantfile = url_repo + \"plexon/File_plexon_3.plx\"\nlocalfile = \"File_plexon_3.plx\"\nurllib.request.urlretrieve(distantfile, localfile)\n\n# create a reader\nreader = neo.io.PlexonIO(filename=\"File_plexon_3.plx\")\n# read the blocks\nblks = reader.read(lazy=False)\nprint(blks)\n# access to segments\nfor blk in blks:\n    for seg in blk.segments:\n        print(seg)\n        for asig in seg.analogsignals:\n            print(asig)\n        for st in seg.spiketrains:\n            print(st)\n\n# CED Spike2 files\ndistantfile = url_repo + \"spike2/File_spike2_1.smr\"\nlocalfile = \"./File_spike2_1.smr\"\nurllib.request.urlretrieve(distantfile, localfile)\n\n# create a reader\nreader = neo.io.Spike2IO(filename=\"File_spike2_1.smr\")\n# read the block\nbl = reader.read(lazy=False)[0]\nprint(bl)\n# access to segments\nfor seg in bl.segments:\n    print(seg)\n    for asig in seg.analogsignals:\n        print(asig)\n    for st in seg.spiketrains:\n        print(st)"
      ]
    }
  ],
  "metadata": {
    "kernelspec": {
      "display_name": "Python 3",
      "language": "python",
      "name": "python3"
    },
    "language_info": {
      "codemirror_mode": {
        "name": "ipython",
        "version": 3
      },
      "file_extension": ".py",
      "mimetype": "text/x-python",
      "name": "python",
      "nbconvert_exporter": "python",
      "pygments_lexer": "ipython3",
      "version": "3.11.4"
    }
  },
  "nbformat": 4,
  "nbformat_minor": 0
}