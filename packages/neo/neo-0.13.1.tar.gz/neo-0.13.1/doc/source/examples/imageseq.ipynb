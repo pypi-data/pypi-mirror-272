{
  "cells": [
    {
      "cell_type": "markdown",
      "metadata": {},
      "source": [
        "\n# ImageSequences\n"
      ]
    },
    {
      "cell_type": "code",
      "execution_count": null,
      "metadata": {
        "collapsed": false
      },
      "outputs": [],
      "source": [
        "from neo.core import ImageSequence\nfrom neo.core import RectangularRegionOfInterest, CircularRegionOfInterest, PolygonRegionOfInterest\nimport matplotlib.pyplot as plt\nimport quantities as pq\n\nimport random\n\n# generate data\n\nl = []\nfor frame in range(50):\n    l.append([])\n    for y in range(100):\n        l[frame].append([])\n        for x in range(100):\n            l[frame][y].append(random.randint(0, 50))\n\nimage_seq = ImageSequence(l, sampling_rate=500 * pq.Hz, spatial_scale=\"m\", units=\"V\")\n\nresult = image_seq.signal_from_region(\n    CircularRegionOfInterest(50, 50, 25),\n    CircularRegionOfInterest(10, 10, 5),\n    PolygonRegionOfInterest((50, 25), (50, 45), (14, 65), (90, 80)),\n)\n\nfor i in range(len(result)):\n    plt.figure()\n    plt.plot(result[i].times, result[i])\n    plt.xlabel(\"seconde\")\n    plt.ylabel(\"valeur\")\n\nplt.show()"
      ]
    }
  ],
  "metadata": {
    "kernelspec": {
      "display_name": "Python 3",
      "language": "python",
      "name": "python3"
    },
    "language_info": {
      "codemirror_mode": {
        "name": "ipython",
        "version": 3
      },
      "file_extension": ".py",
      "mimetype": "text/x-python",
      "name": "python",
      "nbconvert_exporter": "python",
      "pygments_lexer": "ipython3",
      "version": "3.11.4"
    }
  },
  "nbformat": 4,
  "nbformat_minor": 0
}