{
  "cells": [
    {
      "cell_type": "markdown",
      "metadata": {},
      "source": [
        "\n# Reading files with neo.io\n"
      ]
    },
    {
      "cell_type": "markdown",
      "metadata": {},
      "source": [
        "Start with package import and getting a datafile\n\n"
      ]
    },
    {
      "cell_type": "code",
      "execution_count": null,
      "metadata": {
        "collapsed": false
      },
      "outputs": [],
      "source": [
        "import urllib\n\nimport neo\n\nurl_repo = \"https://web.gin.g-node.org/NeuralEnsemble/ephy_testing_data/raw/master/\"\n\n# Plexon files\ndistantfile = url_repo + \"plexon/File_plexon_3.plx\"\nlocalfile = \"File_plexon_3.plx\"\nurllib.request.urlretrieve(distantfile, localfile)"
      ]
    },
    {
      "cell_type": "markdown",
      "metadata": {},
      "source": [
        "Now we can create our reader and read some data\n\n"
      ]
    },
    {
      "cell_type": "code",
      "execution_count": null,
      "metadata": {
        "collapsed": false
      },
      "outputs": [],
      "source": [
        "# create a reader\nreader = neo.io.PlexonIO(filename=\"File_plexon_3.plx\")\n# read the blocks\nblks = reader.read(lazy=False)\nprint(blks)"
      ]
    },
    {
      "cell_type": "markdown",
      "metadata": {},
      "source": [
        "Once we have our blocks we can iterate through each\nblock of data and see the contents of all parts of\nthat data\n\n"
      ]
    },
    {
      "cell_type": "code",
      "execution_count": null,
      "metadata": {
        "collapsed": false
      },
      "outputs": [],
      "source": [
        "# access to segments\nfor blk in blks:\n    for seg in blk.segments:\n        print(seg)\n        for asig in seg.analogsignals:\n            print(asig)\n        for st in seg.spiketrains:\n            print(st)"
      ]
    },
    {
      "cell_type": "markdown",
      "metadata": {},
      "source": [
        "Let's look at another file type\n\n"
      ]
    },
    {
      "cell_type": "code",
      "execution_count": null,
      "metadata": {
        "collapsed": false
      },
      "outputs": [],
      "source": [
        "# CED Spike2 files\ndistantfile = url_repo + \"spike2/File_spike2_1.smr\"\nlocalfile = \"./File_spike2_1.smr\"\nurllib.request.urlretrieve(distantfile, localfile)\n# create a reader\nreader = neo.io.Spike2IO(filename=\"File_spike2_1.smr\")"
      ]
    },
    {
      "cell_type": "markdown",
      "metadata": {},
      "source": [
        "Despite being a different raw file format we can access\nthe data in the same way\n\n"
      ]
    },
    {
      "cell_type": "code",
      "execution_count": null,
      "metadata": {
        "collapsed": false
      },
      "outputs": [],
      "source": [
        "# read the block\nbl = reader.read(lazy=False)[0]\nprint(bl)"
      ]
    },
    {
      "cell_type": "markdown",
      "metadata": {},
      "source": [
        "Similarly we can view the different types of data within\nthe block (AnalogSignals and SpikeTrains)\n\n"
      ]
    },
    {
      "cell_type": "code",
      "execution_count": null,
      "metadata": {
        "collapsed": false
      },
      "outputs": [],
      "source": [
        "# access to segments\nfor seg in bl.segments:\n    print(seg)\n    for asig in seg.analogsignals:\n        print(asig)\n    for st in seg.spiketrains:\n        print(st)"
      ]
    }
  ],
  "metadata": {
    "kernelspec": {
      "display_name": "Python 3",
      "language": "python",
      "name": "python3"
    },
    "language_info": {
      "codemirror_mode": {
        "name": "ipython",
        "version": 3
      },
      "file_extension": ".py",
      "mimetype": "text/x-python",
      "name": "python",
      "nbconvert_exporter": "python",
      "pygments_lexer": "ipython3",
      "version": "3.11.4"
    }
  },
  "nbformat": 4,
  "nbformat_minor": 0
}