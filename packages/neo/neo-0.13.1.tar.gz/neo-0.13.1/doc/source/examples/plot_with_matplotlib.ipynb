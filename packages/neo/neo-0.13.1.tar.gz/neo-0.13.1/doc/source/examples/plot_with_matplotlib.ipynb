{
  "cells": [
    {
      "cell_type": "markdown",
      "metadata": {},
      "source": [
        "\n# Plotting a Neo object with matplotlib\n"
      ]
    },
    {
      "cell_type": "code",
      "execution_count": null,
      "metadata": {
        "collapsed": false
      },
      "outputs": [],
      "source": [
        "import urllib\n\nimport numpy as np\nimport quantities as pq\nfrom matplotlib import pyplot\n\nimport neo\n\ndistantfile = \"https://web.gin.g-node.org/NeuralEnsemble/ephy_testing_data/raw/master/plexon/File_plexon_3.plx\"\nlocalfile = \"File_plexon_3.plx\"\n\nurllib.request.urlretrieve(distantfile, localfile)\n\n# reader = neo.io.NeuroExplorerIO(filename='File_neuroexplorer_2.nex')\nreader = neo.io.PlexonIO(filename=\"File_plexon_3.plx\")\n\nbl = reader.read(lazy=False)[0]\nfor seg in bl.segments:\n    print(\"SEG: \" + str(seg.file_origin))\n    fig = pyplot.figure()\n    ax1 = fig.add_subplot(2, 1, 1)\n    ax2 = fig.add_subplot(2, 1, 2)\n    ax1.set_title(seg.file_origin)\n    ax1.set_ylabel(\"arbitrary units\")\n    mint = 0 * pq.s\n    maxt = np.inf * pq.s\n    for i, asig in enumerate(seg.analogsignals):\n        times = asig.times.rescale(\"s\").magnitude\n        asig = asig.magnitude\n        ax1.plot(times, asig)\n\n    trains = [st.rescale(\"s\").magnitude for st in seg.spiketrains]\n    colors = pyplot.cm.jet(np.linspace(0, 1, len(seg.spiketrains)))\n    ax2.eventplot(trains, colors=colors)\n\npyplot.show()"
      ]
    }
  ],
  "metadata": {
    "kernelspec": {
      "display_name": "Python 3",
      "language": "python",
      "name": "python3"
    },
    "language_info": {
      "codemirror_mode": {
        "name": "ipython",
        "version": 3
      },
      "file_extension": ".py",
      "mimetype": "text/x-python",
      "name": "python",
      "nbconvert_exporter": "python",
      "pygments_lexer": "ipython3",
      "version": "3.11.4"
    }
  },
  "nbformat": 4,
  "nbformat_minor": 0
}