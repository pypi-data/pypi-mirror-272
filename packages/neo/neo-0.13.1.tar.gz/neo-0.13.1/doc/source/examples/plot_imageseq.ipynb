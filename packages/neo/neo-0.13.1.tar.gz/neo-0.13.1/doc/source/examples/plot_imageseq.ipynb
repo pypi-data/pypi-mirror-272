{
  "cells": [
    {
      "cell_type": "markdown",
      "metadata": {},
      "source": [
        "\n# ImageSequences\n"
      ]
    },
    {
      "cell_type": "markdown",
      "metadata": {},
      "source": [
        "Let's import some packages\n\n"
      ]
    },
    {
      "cell_type": "code",
      "execution_count": null,
      "metadata": {
        "collapsed": false
      },
      "outputs": [],
      "source": [
        "from neo.core import ImageSequence\nfrom neo.core import RectangularRegionOfInterest, CircularRegionOfInterest, PolygonRegionOfInterest\nimport matplotlib.pyplot as plt\nimport quantities as pq\n\nimport random"
      ]
    },
    {
      "cell_type": "markdown",
      "metadata": {},
      "source": [
        "Now we need to generate some data\nWe will just make a nice box and then we can attach this\nImageSequence to a variety of ROIs\nour ImageSequence will be 50 frames of 100x100 pixel images\n\n"
      ]
    },
    {
      "cell_type": "code",
      "execution_count": null,
      "metadata": {
        "collapsed": false
      },
      "outputs": [],
      "source": [
        "l = []\nfor frame in range(50):\n    l.append([])\n    for y in range(100):\n        l[frame].append([])\n        for x in range(100):\n            l[frame][y].append(random.randint(0, 50))"
      ]
    },
    {
      "cell_type": "markdown",
      "metadata": {},
      "source": [
        "we then make our image sequence and pull out our results from the\nimage_seq\n\n"
      ]
    },
    {
      "cell_type": "code",
      "execution_count": null,
      "metadata": {
        "collapsed": false
      },
      "outputs": [],
      "source": [
        "image_seq = ImageSequence(l, sampling_rate=500 * pq.Hz, spatial_scale=\"m\", units=\"V\")\n\nresult = image_seq.signal_from_region(\n    CircularRegionOfInterest(image_seq, 50, 50, 25),\n    CircularRegionOfInterest(image_seq, 10, 10, 5),\n    PolygonRegionOfInterest(image_seq, (50, 25), (50, 45), (14, 65), (90, 80)),\n)"
      ]
    },
    {
      "cell_type": "markdown",
      "metadata": {},
      "source": [
        "It is easy to plot our results using matplotlib\n\n"
      ]
    },
    {
      "cell_type": "code",
      "execution_count": null,
      "metadata": {
        "collapsed": false
      },
      "outputs": [],
      "source": [
        "for i in range(len(result)):\n    plt.figure()\n    plt.plot(result[i].times, result[i])\n    plt.xlabel(\"seconde\")\n    plt.ylabel(\"valeur\")\nplt.tight_layout()\nplt.show()"
      ]
    }
  ],
  "metadata": {
    "kernelspec": {
      "display_name": "Python 3",
      "language": "python",
      "name": "python3"
    },
    "language_info": {
      "codemirror_mode": {
        "name": "ipython",
        "version": 3
      },
      "file_extension": ".py",
      "mimetype": "text/x-python",
      "name": "python",
      "nbconvert_exporter": "python",
      "pygments_lexer": "ipython3",
      "version": "3.11.4"
    }
  },
  "nbformat": 4,
  "nbformat_minor": 0
}