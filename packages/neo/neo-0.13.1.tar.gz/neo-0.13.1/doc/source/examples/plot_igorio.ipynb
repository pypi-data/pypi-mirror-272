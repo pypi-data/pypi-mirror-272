{
  "cells": [
    {
      "cell_type": "markdown",
      "metadata": {},
      "source": [
        "\n# IgorProIO Demo\n"
      ]
    },
    {
      "cell_type": "markdown",
      "metadata": {},
      "source": [
        "Import our packages\n\n"
      ]
    },
    {
      "cell_type": "code",
      "execution_count": null,
      "metadata": {
        "collapsed": false
      },
      "outputs": [],
      "source": [
        "import os\nfrom urllib.request import urlretrieve\nimport zipfile\nimport matplotlib.pyplot as plt\nfrom neo.io import get_io"
      ]
    },
    {
      "cell_type": "markdown",
      "metadata": {},
      "source": [
        "Then download some data\nDownloaded from Human Brain Project Collaboratory\nDigital Reconstruction of Neocortical Microcircuitry (nmc-portal)\nhttp://microcircuits.epfl.ch/#/animal/8ecde7d1-b2d2-11e4-b949-6003088da632\n\n"
      ]
    },
    {
      "cell_type": "code",
      "execution_count": null,
      "metadata": {
        "collapsed": false
      },
      "outputs": [],
      "source": [
        "datafile_url = \"https://microcircuits.epfl.ch/data/released_data/B95.zip\"\nfilename_zip = \"B95.zip\"\nfilename = \"grouped_ephys/B95/B95_Ch0_IDRest_107.ibw\"\nurlretrieve(datafile_url, filename_zip)\n\nzip_ref = zipfile.ZipFile(filename_zip)  # create zipfile object\nzip_ref.extract(path=\".\", member=filename)  # extract file to dir\nzip_ref.close()"
      ]
    },
    {
      "cell_type": "markdown",
      "metadata": {},
      "source": [
        "Once we have our data we can use `get_io` to find an\nio (Igor in this case). Then we read the analogsignals\nFinally we will make some nice plots\n\n"
      ]
    },
    {
      "cell_type": "code",
      "execution_count": null,
      "metadata": {
        "collapsed": false
      },
      "outputs": [],
      "source": [
        "reader = get_io(filename)\nsignal = reader.read_analogsignal()\nplt.plot(signal.times, signal)\nplt.xlabel(signal.sampling_period.dimensionality)\nplt.ylabel(signal.dimensionality)\n\nplt.show()"
      ]
    }
  ],
  "metadata": {
    "kernelspec": {
      "display_name": "Python 3",
      "language": "python",
      "name": "python3"
    },
    "language_info": {
      "codemirror_mode": {
        "name": "ipython",
        "version": 3
      },
      "file_extension": ".py",
      "mimetype": "text/x-python",
      "name": "python",
      "nbconvert_exporter": "python",
      "pygments_lexer": "ipython3",
      "version": "3.11.4"
    }
  },
  "nbformat": 4,
  "nbformat_minor": 0
}