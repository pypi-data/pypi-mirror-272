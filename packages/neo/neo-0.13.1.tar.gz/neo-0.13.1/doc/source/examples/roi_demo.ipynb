{
  "cells": [
    {
      "cell_type": "markdown",
      "metadata": {},
      "source": [
        "\n# Working with RegionOfInterest objects\n"
      ]
    },
    {
      "cell_type": "code",
      "execution_count": null,
      "metadata": {
        "collapsed": false
      },
      "outputs": [],
      "source": [
        "import matplotlib.pyplot as plt\nimport numpy as np\nfrom neo.core import CircularRegionOfInterest, RectangularRegionOfInterest, PolygonRegionOfInterest\nfrom numpy.random import rand\n\n\ndef plot_roi(roi, shape):\n    img = rand(120, 100)\n    pir = np.array(roi.pixels_in_region()).T\n    img[pir[1], pir[0]] = 5\n\n    plt.imshow(img, cmap=\"gray_r\")\n    plt.clim(0, 5)\n\n    ax = plt.gca()\n    ax.add_artist(shape)\n\n\nroi = CircularRegionOfInterest(x=50.3, y=50.8, radius=30.2)\nshape = plt.Circle(roi.centre, roi.radius, color=\"r\", fill=False)\nplt.subplot(1, 3, 1)\nplot_roi(roi, shape)\n\nroi = RectangularRegionOfInterest(x=50.3, y=40.2, width=40.1, height=50.3)\nshape = plt.Rectangle((roi.x - roi.width / 2.0, roi.y - roi.height / 2.0), roi.width, roi.height, color=\"r\", fill=False)\nplt.subplot(1, 3, 2)\nplot_roi(roi, shape)\n\nroi = PolygonRegionOfInterest((20.3, 30.2), (80.7, 30.1), (55.2, 59.4))\nshape = plt.Polygon(np.array(roi.vertices), closed=True, color=\"r\", fill=False)\nplt.subplot(1, 3, 3)\nplot_roi(roi, shape)\n\nplt.show()"
      ]
    }
  ],
  "metadata": {
    "kernelspec": {
      "display_name": "Python 3",
      "language": "python",
      "name": "python3"
    },
    "language_info": {
      "codemirror_mode": {
        "name": "ipython",
        "version": 3
      },
      "file_extension": ".py",
      "mimetype": "text/x-python",
      "name": "python",
      "nbconvert_exporter": "python",
      "pygments_lexer": "ipython3",
      "version": "3.11.4"
    }
  },
  "nbformat": 4,
  "nbformat_minor": 0
}