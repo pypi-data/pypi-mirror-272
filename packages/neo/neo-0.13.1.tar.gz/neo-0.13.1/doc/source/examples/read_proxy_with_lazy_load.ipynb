{
  "cells": [
    {
      "cell_type": "markdown",
      "metadata": {},
      "source": [
        "\n# Demonstration of lazy load and proxy objects\n"
      ]
    },
    {
      "cell_type": "code",
      "execution_count": null,
      "metadata": {
        "collapsed": false
      },
      "outputs": [],
      "source": [
        "import urllib\nimport neo\nimport quantities as pq\nimport numpy as np\n\nurl_repo = \"https://web.gin.g-node.org/NeuralEnsemble/ephy_testing_data/raw/master/\"\n\n# Get Plexon files\ndistantfile = url_repo + \"micromed/File_micromed_1.TRC\"\nlocalfile = \"./File_micromed_1.TRC\"\nurllib.request.urlretrieve(distantfile, localfile)\n\n# create a reader\nreader = neo.MicromedIO(filename=\"File_micromed_1.TRC\")\nreader.parse_header()\n\n\nlim0, lim1 = -20 * pq.ms, +20 * pq.ms\n\n\ndef apply_my_fancy_average(sig_list):\n    \"\"\"basic average along triggers and then channels\n    here we go back to numpy with magnitude\n    to be able to use np.stack\n    \"\"\"\n    sig_list = [s.magnitude for s in sig_list]\n    sigs = np.stack(sig_list, axis=0)\n    return np.mean(np.mean(sigs, axis=0), axis=1)\n\n\nseg = reader.read_segment(lazy=False)\ntriggers = seg.events[0]\nanasig = seg.analogsignals[0]  # here anasig contain the whole recording in memory\nall_sig_chunks = []\nfor t in triggers.times:\n    t0, t1 = (t + lim0), (t + lim1)\n    anasig_chunk = anasig.time_slice(t0, t1)\n    all_sig_chunks.append(anasig_chunk)\nm1 = apply_my_fancy_average(all_sig_chunks)\n\n\nseg = reader.read_segment(lazy=True)\ntriggers = seg.events[0].load(time_slice=None)  # this load all trigers in memory\nanasigproxy = seg.analogsignals[0]  # this is a proxy\nall_sig_chunks = []\nfor t in triggers.times:\n    t0, t1 = (t + lim0), (t + lim1)\n    anasig_chunk = anasigproxy.load(time_slice=(t0, t1))  # here real data are loaded\n    all_sig_chunks.append(anasig_chunk)\nm2 = apply_my_fancy_average(all_sig_chunks)\n\nprint(m1)\nprint(m2)"
      ]
    }
  ],
  "metadata": {
    "kernelspec": {
      "display_name": "Python 3",
      "language": "python",
      "name": "python3"
    },
    "language_info": {
      "codemirror_mode": {
        "name": "ipython",
        "version": 3
      },
      "file_extension": ".py",
      "mimetype": "text/x-python",
      "name": "python",
      "nbconvert_exporter": "python",
      "pygments_lexer": "ipython3",
      "version": "3.11.4"
    }
  },
  "nbformat": 4,
  "nbformat_minor": 0
}