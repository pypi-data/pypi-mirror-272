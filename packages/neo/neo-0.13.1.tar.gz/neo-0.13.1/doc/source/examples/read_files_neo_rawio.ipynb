{
  "cells": [
    {
      "cell_type": "markdown",
      "metadata": {},
      "source": [
        "\n# Reading files with neo.rawio\n\ncompare with read_files_neo_io.py\n"
      ]
    },
    {
      "cell_type": "code",
      "execution_count": null,
      "metadata": {
        "collapsed": false
      },
      "outputs": [],
      "source": [
        "import urllib\nfrom neo.rawio import PlexonRawIO\n\nurl_repo = \"https://web.gin.g-node.org/NeuralEnsemble/ephy_testing_data/raw/master/\"\n\n# Get Plexon files\ndistantfile = url_repo + \"plexon/File_plexon_3.plx\"\nlocalfile = \"File_plexon_3.plx\"\nurllib.request.urlretrieve(distantfile, localfile)\n\n# create a reader\nreader = PlexonRawIO(filename=\"File_plexon_3.plx\")\nreader.parse_header()\nprint(reader)\nprint(reader.header)\n\n# Read signal chunks\nchannel_indexes = None  # could be channel_indexes = [0]\nraw_sigs = reader.get_analogsignal_chunk(\n    block_index=0, seg_index=0, i_start=1024, i_stop=2048, channel_indexes=channel_indexes\n)\nfloat_sigs = reader.rescale_signal_raw_to_float(raw_sigs, dtype=\"float64\")\nsampling_rate = reader.get_signal_sampling_rate()\nt_start = reader.get_signal_t_start(block_index=0, seg_index=0)\nunits = reader.header[\"signal_channels\"][0][\"units\"]\nprint(raw_sigs.shape, raw_sigs.dtype)\nprint(float_sigs.shape, float_sigs.dtype)\nprint(sampling_rate, t_start, units)\n\n# Count units and spikes per unit\nnb_unit = reader.spike_channels_count()\nprint(\"nb_unit\", nb_unit)\nfor spike_channel_index in range(nb_unit):\n    nb_spike = reader.spike_count(block_index=0, seg_index=0, spike_channel_index=spike_channel_index)\n    print(\"spike_channel_index\", spike_channel_index, \"nb_spike\", nb_spike)\n\n# Read spike times\nspike_timestamps = reader.get_spike_timestamps(\n    block_index=0, seg_index=0, spike_channel_index=0, t_start=0.0, t_stop=10.0\n)\nprint(spike_timestamps.shape, spike_timestamps.dtype, spike_timestamps[:5])\nspike_times = reader.rescale_spike_timestamp(spike_timestamps, dtype=\"float64\")\nprint(spike_times.shape, spike_times.dtype, spike_times[:5])\n\n# Read spike waveforms\nraw_waveforms = reader.get_spike_raw_waveforms(\n    block_index=0, seg_index=0, spike_channel_index=0, t_start=0.0, t_stop=10.0\n)\nprint(raw_waveforms.shape, raw_waveforms.dtype, raw_waveforms[0, 0, :4])\nfloat_waveforms = reader.rescale_waveforms_to_float(raw_waveforms, dtype=\"float32\", spike_channel_index=0)\nprint(float_waveforms.shape, float_waveforms.dtype, float_waveforms[0, 0, :4])\n\n# Read event timestamps and times (take another file)\ndistantfile = url_repo + \"plexon/File_plexon_2.plx\"\nlocalfile = \"File_plexon_2.plx\"\nurllib.request.urlretrieve(distantfile, localfile)\n\n# Count events per channel\nreader = PlexonRawIO(filename=\"File_plexon_2.plx\")\nreader.parse_header()\nnb_event_channel = reader.event_channels_count()\nprint(\"nb_event_channel\", nb_event_channel)\nfor chan_index in range(nb_event_channel):\n    nb_event = reader.event_count(block_index=0, seg_index=0, event_channel_index=chan_index)\n    print(\"chan_index\", chan_index, \"nb_event\", nb_event)\n\nev_timestamps, ev_durations, ev_labels = reader.get_event_timestamps(\n    block_index=0, seg_index=0, event_channel_index=0, t_start=None, t_stop=None\n)\nprint(ev_timestamps, ev_durations, ev_labels)\nev_times = reader.rescale_event_timestamp(ev_timestamps, dtype=\"float64\")\nprint(ev_times)"
      ]
    }
  ],
  "metadata": {
    "kernelspec": {
      "display_name": "Python 3",
      "language": "python",
      "name": "python3"
    },
    "language_info": {
      "codemirror_mode": {
        "name": "ipython",
        "version": 3
      },
      "file_extension": ".py",
      "mimetype": "text/x-python",
      "name": "python",
      "nbconvert_exporter": "python",
      "pygments_lexer": "ipython3",
      "version": "3.11.4"
    }
  },
  "nbformat": 4,
  "nbformat_minor": 0
}