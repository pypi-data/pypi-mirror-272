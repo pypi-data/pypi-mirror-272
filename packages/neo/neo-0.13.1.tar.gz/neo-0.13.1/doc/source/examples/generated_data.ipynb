{
  "cells": [
    {
      "cell_type": "markdown",
      "metadata": {},
      "source": [
        "\n# Creating simple plots from various Neo structures\n\nIt includes a function that generates toy data.\n"
      ]
    },
    {
      "cell_type": "code",
      "execution_count": null,
      "metadata": {
        "collapsed": false
      },
      "outputs": [],
      "source": [
        "import numpy as np\nimport quantities as pq\nfrom matplotlib import pyplot as plt\n\nimport neo\n\n\ndef generate_block(n_segments=3, n_channels=4, n_units=3, data_samples=1000, feature_samples=100):\n    \"\"\"\n    Generate a block with a single recording channel group and a number of\n    segments, recording channels and units with associated analog signals\n    and spike trains.\n    \"\"\"\n    feature_len = feature_samples / data_samples\n\n    # Create Block to contain all generated data\n    block = neo.Block()\n\n    # Create multiple Segments\n    block.segments = [neo.Segment(index=i) for i in range(n_segments)]\n    # Create multiple ChannelIndexes\n    block.channel_indexes = [neo.ChannelIndex(name=\"C%d\" % i, index=i) for i in range(n_channels)]\n\n    # Attach multiple Units to each ChannelIndex\n    for channel_idx in block.channel_indexes:\n        channel_idx.units = [neo.Unit(\"U%d\" % i) for i in range(n_units)]\n\n    # Create synthetic data\n    for seg in block.segments:\n        feature_pos = np.random.randint(0, data_samples - feature_samples)\n\n        # Analog signals: Noise with a single sinewave feature\n        wave = 3 * np.sin(np.linspace(0, 2 * np.pi, feature_samples))\n        for channel_idx in block.channel_indexes:\n            sig = np.random.randn(data_samples)\n            sig[feature_pos : feature_pos + feature_samples] += wave\n\n            signal = neo.AnalogSignal(sig * pq.mV, sampling_rate=1 * pq.kHz)\n            seg.analogsignals.append(signal)\n            channel_idx.analogsignals.append(signal)\n\n            # Spike trains: Random spike times with elevated rate in short period\n            feature_time = feature_pos / data_samples\n            for u in channel_idx.units:\n                random_spikes = np.random.rand(20)\n                feature_spikes = np.random.rand(5) * feature_len + feature_time\n                spikes = np.hstack([random_spikes, feature_spikes])\n\n                train = neo.SpikeTrain(spikes * pq.s, 1 * pq.s)\n                seg.spiketrains.append(train)\n                u.spiketrains.append(train)\n\n    return block\n\n\nblock = generate_block()\n\n# In this example, we treat each segment in turn, averaging over the channels\n# in each:\nfor seg in block.segments:\n    print(\"Analysing segment %d\" % seg.index)\n\n    siglist = seg.analogsignals\n    time_points = siglist[0].times\n    avg = np.mean(siglist, axis=0)  # Average over signals of Segment\n\n    plt.figure()\n    plt.plot(time_points, avg)\n    plt.title(\"Peak response in segment %d: %f\" % (seg.index, avg.max()))\n\n# The second alternative is spatial traversal of the data (by channel), with\n# averaging over trials. For example, perhaps you wish to see which physical\n# location produces the strongest response, and each stimulus was the same:\n\n# There are multiple ChannelIndex objects connected to the block, each\n# corresponding to a a physical electrode\nfor channel_idx in block.channel_indexes:\n    print(\"Analysing channel %d: %s\" % (channel_idx.index, channel_idx.name))\n\n    siglist = channel_idx.analogsignals\n    time_points = siglist[0].times\n    avg = np.mean(siglist, axis=0)  # Average over signals of RecordingChannel\n\n    plt.figure()\n    plt.plot(time_points, avg)\n    plt.title(\"Average response on channel %d\" % channel_idx.index)\n\n# There are three ways to access the spike train data: by Segment,\n# by ChannelIndex or by Unit.\n\n# By Segment. In this example, each Segment represents data from one trial,\n# and we want a peristimulus time histogram (PSTH) for each trial from all\n# Units combined:\nfor seg in block.segments:\n    print(\"Analysing segment %d\" % seg.index)\n    stlist = [st - st.t_start for st in seg.spiketrains]\n    count, bins = np.histogram(np.hstack(stlist))\n    plt.figure()\n    plt.bar(bins[:-1], count, width=bins[1] - bins[0])\n    plt.title(\"PSTH in segment %d\" % seg.index)\n\n# By Unit. Now we can calculate the PSTH averaged over trials for each Unit:\nfor unit in block.list_units:\n    stlist = [st - st.t_start for st in unit.spiketrains]\n    count, bins = np.histogram(np.hstack(stlist))\n    plt.figure()\n    plt.bar(bins[:-1], count, width=bins[1] - bins[0])\n    plt.title(\"PSTH of unit %s\" % unit.name)\n\n# By ChannelIndex. Here we calculate a PSTH averaged over trials by\n# channel location, blending all Units:\nfor chx in block.channel_indexes:\n    stlist = []\n    for unit in chx.units:\n        stlist.extend([st - st.t_start for st in unit.spiketrains])\n    count, bins = np.histogram(np.hstack(stlist))\n    plt.figure()\n    plt.bar(bins[:-1], count, width=bins[1] - bins[0])\n    plt.title(\"PSTH blend of recording channel group %s\" % chx.name)\n\nplt.show()"
      ]
    }
  ],
  "metadata": {
    "kernelspec": {
      "display_name": "Python 3",
      "language": "python",
      "name": "python3"
    },
    "language_info": {
      "codemirror_mode": {
        "name": "ipython",
        "version": 3
      },
      "file_extension": ".py",
      "mimetype": "text/x-python",
      "name": "python",
      "nbconvert_exporter": "python",
      "pygments_lexer": "ipython3",
      "version": "3.11.4"
    }
  },
  "nbformat": 4,
  "nbformat_minor": 0
}