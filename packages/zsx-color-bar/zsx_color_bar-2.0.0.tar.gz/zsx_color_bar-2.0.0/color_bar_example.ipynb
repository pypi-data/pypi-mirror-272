{
 "cells": [
  {
   "cell_type": "code",
   "execution_count": 1,
   "id": "4100fd57",
   "metadata": {},
   "outputs": [],
   "source": [
    "import matplotlib.pyplot as plt\n",
    "from matplotlib import cm\n",
    "import zsx_color_bar as cb\n",
    "import numpy as np"
   ]
  },
  {
   "cell_type": "code",
   "execution_count": 2,
   "id": "253e40c2",
   "metadata": {},
   "outputs": [],
   "source": [
    "save_path = 'D:/数据/王燕燕/spe_wide_ana_2/circos_plot/colorbar/'"
   ]
  },
  {
   "cell_type": "code",
   "execution_count": 3,
   "id": "adc12d25",
   "metadata": {},
   "outputs": [],
   "source": [
    "num = 100\n",
    "c1 = [np.array([num, i, i, num]) / num for i in range(num)]\n",
    "c2 = [np.array([i, 0.4 * num + 0.6 * i, 0.8 * num + 0.2 * i, num]) / num for i in range(num)]\n",
    "c3 = [np.array([num, 0.4 * num + 0.6 * i, i, num]) / num for i in range(num)]"
   ]
  },
  {
   "cell_type": "code",
   "execution_count": 4,
   "id": "50bf3c28",
   "metadata": {},
   "outputs": [
    {
     "data": {
      "text/plain": [
       "(-0.5, 10.5, -0.05, 1.05)"
      ]
     },
     "execution_count": 4,
     "metadata": {},
     "output_type": "execute_result"
    },
    {
     "data": {
      "image/png": "[encoded data removed]",
      "text/plain": [
       "<Figure size 720x72 with 1 Axes>"
      ]
     },
     "metadata": {
      "needs_background": "light"
     },
     "output_type": "display_data"
    }
   ],
   "source": [
    "plt.figure(figsize=(10, 1))\n",
    "cb.colorbar(c1[::-1], cmod=3, ticks=[0, 0.5, 1])\n",
    "plt.axis('off')\n",
    "# plt.savefig(save_path + 'reds.png', dpi=600, bbox_inches='tight', transparent=True)"
   ]
  },
  {
   "cell_type": "code",
   "execution_count": 5,
   "id": "6cc075f2",
   "metadata": {},
   "outputs": [
    {
     "data": {
      "text/plain": [
       "(-0.5, 10.5, -0.05, 1.05)"
      ]
     },
     "execution_count": 5,
     "metadata": {},
     "output_type": "execute_result"
    },
    {
     "data": {
      "image/png": "[encoded data removed]",
      "text/plain": [
       "<Figure size 720x72 with 1 Axes>"
      ]
     },
     "metadata": {
      "needs_background": "light"
     },
     "output_type": "display_data"
    }
   ],
   "source": [
    "plt.figure(figsize=(10, 1))\n",
    "cb.colorbar(c2[::-1], cmod=3, ticks=[0, 0.5, 1])\n",
    "plt.axis('off')\n",
    "# plt.savefig(save_path + 'blues.png', dpi=600, bbox_inches='tight', transparent=True)"
   ]
  },
  {
   "cell_type": "code",
   "execution_count": 6,
   "id": "15dd33e9",
   "metadata": {},
   "outputs": [
    {
     "data": {
      "text/plain": [
       "(-0.5, 10.5, -0.05, 1.05)"
      ]
     },
     "execution_count": 6,
     "metadata": {},
     "output_type": "execute_result"
    },
    {
     "data": {
      "image/png": "[encoded data removed]",
      "text/plain": [
       "<Figure size 720x72 with 1 Axes>"
      ]
     },
     "metadata": {
      "needs_background": "light"
     },
     "output_type": "display_data"
    }
   ],
   "source": [
    "plt.figure(figsize=(10, 1))\n",
    "cb.colorbar(c3[::-1], cmod=3, ticks=[0, 0.25, 0.5, 0.75, 1], labels=[0, 1, 2, 3, 4])\n",
    "plt.axis('off')\n",
    "# plt.savefig(save_path + 'oranges_4.png', dpi=600, bbox_inches='tight', transparent=True)"
   ]
  },
  {
   "cell_type": "code",
   "execution_count": 7,
   "id": "86dd9703",
   "metadata": {},
   "outputs": [
    {
     "data": {
      "text/plain": [
       "(-0.5, 10.5, -0.05, 1.05)"
      ]
     },
     "execution_count": 7,
     "metadata": {},
     "output_type": "execute_result"
    },
    {
     "data": {
      "image/png": "[encoded data removed]",
      "text/plain": [
       "<Figure size 720x72 with 1 Axes>"
      ]
     },
     "metadata": {
      "needs_background": "light"
     },
     "output_type": "display_data"
    }
   ],
   "source": [
    "plt.figure(figsize=(10, 1))\n",
    "cb.colorbar(c3[::-1], cmod=3, ticks=[0, 0.2, 0.4, 0.6, 0.8, 1], labels=[0, 1, 2, 3, 4, 5])\n",
    "plt.axis('off')\n",
    "# plt.savefig(save_path + 'oranges_5.png', dpi=600, bbox_inches='tight', transparent=True)"
   ]
  },
  {
   "cell_type": "markdown",
   "id": "8786a9d7",
   "metadata": {},
   "source": [
    "# Discrete"
   ]
  },
  {
   "cell_type": "code",
   "execution_count": 8,
   "id": "d01723f1",
   "metadata": {},
   "outputs": [],
   "source": [
    "num = 5\n",
    "c4 = [np.array([num, 0.4 * num + 0.6 * i, i, num]) / num for i in range(num)]"
   ]
  },
  {
   "cell_type": "code",
   "execution_count": 9,
   "id": "57e2f102",
   "metadata": {},
   "outputs": [
    {
     "data": {
      "text/plain": [
       "(-0.5, 10.5, -0.05, 1.05)"
      ]
     },
     "execution_count": 9,
     "metadata": {},
     "output_type": "execute_result"
    },
    {
     "data": {
      "image/png": "[encoded data removed]",
      "text/plain": [
       "<Figure size 720x72 with 1 Axes>"
      ]
     },
     "metadata": {
      "needs_background": "light"
     },
     "output_type": "display_data"
    }
   ],
   "source": [
    "plt.figure(figsize=(10, 1))\n",
    "cb.colorbar(c4[::-1], cmod=3, ticks=[0.1, 0.3, 0.5, 0.7, 0.9], labels=[0, 1, 2, 3, 4])\n",
    "plt.axis('off')\n",
    "# plt.savefig(save_path + 'oranges_discrete_4.png', dpi=600, bbox_inches='tight', transparent=True)"
   ]
  },
  {
   "cell_type": "code",
   "execution_count": 10,
   "id": "c18b773b",
   "metadata": {},
   "outputs": [],
   "source": [
    "num = 6\n",
    "c5 = [np.array([num, 0.4 * num + 0.6 * i, i, num]) / num for i in range(num)]"
   ]
  },
  {
   "cell_type": "code",
   "execution_count": 11,
   "id": "14cb6755",
   "metadata": {},
   "outputs": [
    {
     "data": {
      "text/plain": [
       "(-0.5, 10.5, -0.05, 1.05)"
      ]
     },
     "execution_count": 11,
     "metadata": {},
     "output_type": "execute_result"
    },
    {
     "data": {
      "image/png": "[encoded data removed]",
      "text/plain": [
       "<Figure size 720x72 with 1 Axes>"
      ]
     },
     "metadata": {
      "needs_background": "light"
     },
     "output_type": "display_data"
    }
   ],
   "source": [
    "plt.figure(figsize=(10, 1))\n",
    "cb.colorbar(c5[::-1], cmod=3, ticks=[1/12, 3/12, 5/12, 7/12, 9/12, 11/12], labels=[0, 1, 2, 3, 4, 5])\n",
    "plt.axis('off')\n",
    "# plt.savefig(save_path + 'oranges_discrete_5.png', dpi=600, bbox_inches='tight', transparent=True)"
   ]
  }
 ],
 "metadata": {
  "kernelspec": {
   "display_name": "Python 3",
   "language": "python",
   "name": "python3"
  },
  "language_info": {
   "codemirror_mode": {
    "name": "ipython",
    "version": 3
   },
   "file_extension": ".py",
   "mimetype": "text/x-python",
   "name": "python",
   "nbconvert_exporter": "python",
   "pygments_lexer": "ipython3",
   "version": "3.8.8"
  }
 },
 "nbformat": 4,
 "nbformat_minor": 5
}
