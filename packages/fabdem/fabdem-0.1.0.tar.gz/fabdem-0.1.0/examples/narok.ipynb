{
 "cells": [
  {
   "cell_type": "markdown",
   "metadata": {},
   "source": [
    "# Narok, Kenya"
   ]
  },
  {
   "cell_type": "code",
   "execution_count": 1,
   "metadata": {},
   "outputs": [],
   "source": [
    "import fabdem"
   ]
  },
  {
   "cell_type": "code",
   "execution_count": 2,
   "metadata": {},
   "outputs": [
    {
     "name": "stderr",
     "output_type": "stream",
     "text": [
      "N00E030-N10E040_FABDEM_V1-2.zip: 100%|██████████| 1.89G/1.89G [23:24<00:00, 1.44MB/s]  \n"
     ]
    }
   ],
   "source": [
    "bounds = (35.88, 1.09, 39.56, 7.91)\n",
    "fabdem.download(bounds, output_path=\"dem.tif\")"
   ]
  }
 ],
 "metadata": {
  "kernelspec": {
   "display_name": "rivulet",
   "language": "python",
   "name": "python3"
  },
  "language_info": {
   "codemirror_mode": {
    "name": "ipython",
    "version": 3
   },
   "file_extension": ".py",
   "mimetype": "text/x-python",
   "name": "python",
   "nbconvert_exporter": "python",
   "pygments_lexer": "ipython3",
   "version": "3.12.3"
  }
 },
 "nbformat": 4,
 "nbformat_minor": 2
}
