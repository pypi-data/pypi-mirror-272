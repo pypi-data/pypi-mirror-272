{
  "nbformat": 4,
  "nbformat_minor": 0,
  "metadata": {
    "colab": {
      "provenance": []
    },
    "kernelspec": {
      "name": "python3",
      "display_name": "Python 3"
    },
    "language_info": {
      "name": "python"
    }
  },
  "cells": [
    {
      "cell_type": "markdown",
      "source": [
        "#Installation and requirements of library\n"
      ],
      "metadata": {
        "id": "UwOvUSvR-8Sm"
      }
    },
    {
      "cell_type": "code",
      "source": [
        "!pip install mimllearning\n",
        "!pip install mil\n",
        "!pip install tensorflow\n",
        "!pip install keras==2.12.0"
      ],
      "metadata": {
        "id": "jZMmibMJcRf2"
      },
      "execution_count": null,
      "outputs": []
    },
    {
      "cell_type": "markdown",
      "source": [
        "# Loading of datasets"
      ],
      "metadata": {
        "id": "AYTbl78HBtuZ"
      }
    },
    {
      "cell_type": "code",
      "execution_count": 2,
      "metadata": {
        "id": "L-_qkpnOxj_V"
      },
      "outputs": [],
      "source": [
        "import pkg_resources\n",
        "from miml.data.load_datasets import load_dataset\n",
        "\n",
        "dataset_train = load_dataset(pkg_resources.resource_filename('miml', 'datasets/miml_birds_random_80train.arff'),\n",
        "                             delimiter=\"'\")\n",
        "dataset_test = load_dataset(pkg_resources.resource_filename('miml', 'datasets/miml_birds_random_20test.arff'),\n",
        "                            delimiter=\"'\")"
      ]
    },
    {
      "cell_type": "markdown",
      "source": [
        "# MIMLtoML Classifier"
      ],
      "metadata": {
        "id": "Rf5EX0HXEtZA"
      }
    },
    {
      "cell_type": "code",
      "source": [
        "from sklearn.neighbors import KNeighborsClassifier\n",
        "from miml.transformation import ArithmeticTransformation\n",
        "from miml.classifier import MIMLtoMLClassifier\n",
        "\n",
        "classifier_ml = MIMLtoMLClassifier(KNeighborsClassifier(), ArithmeticTransformation())\n",
        "classifier_ml.fit(dataset_train)\n",
        "results_ml = classifier_ml.evaluate(dataset_test)"
      ],
      "metadata": {
        "id": "c1OvYWW9Eyhw"
      },
      "execution_count": 3,
      "outputs": []
    },
    {
      "cell_type": "markdown",
      "source": [
        "# MIMLtoMI Classifier\n"
      ],
      "metadata": {
        "id": "KCupyHfc9c0F"
      }
    },
    {
      "cell_type": "code",
      "source": [
        "from miml.classifier import MIMLtoMIBRClassifier, AllPositiveAPRClassifier\n",
        "\n",
        "classifier_mi = MIMLtoMIBRClassifier(AllPositiveAPRClassifier())\n",
        "classifier_mi.fit(dataset_train)\n",
        "results_mi=classifier_mi.evaluate(dataset_test)"
      ],
      "metadata": {
        "id": "J7CxjYzK9jdX"
      },
      "execution_count": 4,
      "outputs": []
    },
    {
      "cell_type": "markdown",
      "source": [
        "# Prediction of a bag"
      ],
      "metadata": {
        "id": "6aovUjKBxVmw"
      }
    },
    {
      "cell_type": "code",
      "source": [
        "print(\"MIMLtoML Classifier\")\n",
        "print(\"-------------------\")\n",
        "print(\"\")\n",
        "print(\"True Labels:       \", dataset_test.get_bag(\"366\").get_labels()[0])\n",
        "print(\"Predicted Labels: \", classifier_ml.predict_bag(dataset_test.get_bag(\"366\")))\n",
        "print(\"\")\n",
        "print(\"MIMLtoMI Classifier\")\n",
        "print(\"-------------------\")\n",
        "print(\"\")\n",
        "print(\"True Labels:      \", dataset_test.get_bag(\"366\").get_labels()[0])\n",
        "print(\"Predicted Labels: \", classifier_mi.predict_bag(dataset_test.get_bag(\"366\")))"
      ],
      "metadata": {
        "colab": {
          "base_uri": "https://localhost:8080/"
        },
        "id": "2oUifr2vxY8L",
        "outputId": "c036ccc6-9982-45c8-d014-ff83c4efd84a"
      },
      "execution_count": 5,
      "outputs": [
        {
          "output_type": "stream",
          "name": "stdout",
          "text": [
            "MIMLtoML Classifier\n",
            "-------------------\n",
            "\n",
            "True Labels:        [0. 0. 0. 0. 0. 0. 0. 0. 0. 1. 0. 0. 0. 1. 0. 0. 0. 0. 0.]\n",
            "Predicted Labels:  [[0. 0. 0. 0. 0. 0. 0. 0. 0. 0. 1. 0. 0. 0. 0. 0. 0. 0. 0.]]\n",
            "\n",
            "MIMLtoMI Classifier\n",
            "-------------------\n",
            "\n",
            "True Labels:       [0. 0. 0. 0. 0. 0. 0. 0. 0. 1. 0. 0. 0. 1. 0. 0. 0. 0. 0.]\n",
            "Predicted Labels:  [0. 0. 0. 0. 0. 0. 0. 0. 0. 1. 1. 0. 0. 0. 0. 0. 0. 0. 0.]\n"
          ]
        }
      ]
    },
    {
      "cell_type": "markdown",
      "source": [
        "#  Report\n"
      ],
      "metadata": {
        "id": "3Ns-WjntvZEH"
      }
    },
    {
      "cell_type": "code",
      "source": [
        "from miml.report import Report\n",
        "\n",
        "report = Report()\n",
        "report.to_string(dataset_test.get_labels_by_bag(), results_ml)\n",
        "print(\"\")\n",
        "report.to_csv(dataset_test.get_labels_by_bag(), results_ml)"
      ],
      "metadata": {
        "colab": {
          "base_uri": "https://localhost:8080/"
        },
        "id": "ysIgN-dkvc8r",
        "outputId": "d9db7bea-ac77-43ae-9361-76256289cc52"
      },
      "execution_count": 6,
      "outputs": [
        {
          "output_type": "stream",
          "name": "stderr",
          "text": [
            "/usr/local/lib/python3.10/dist-packages/sklearn/metrics/_ranking.py:891: UserWarning: No positive class found in y_true, recall is set to one for all thresholds.\n",
            "  warnings.warn(\n",
            "/usr/local/lib/python3.10/dist-packages/sklearn/metrics/_ranking.py:891: UserWarning: No positive class found in y_true, recall is set to one for all thresholds.\n",
            "  warnings.warn(\n"
          ]
        },
        {
          "output_type": "stream",
          "name": "stdout",
          "text": [
            "precision-score-macro :  0.15994152046783625\n",
            "precision-score-micro :  0.2647058823529412\n",
            "average-precision-score-macro :  0.11430070273723521\n",
            "average-precision-score-micro :  0.11592879256965943\n",
            "recall-score-macro :  0.04923706324635117\n",
            "recall-score-micro :  0.09\n",
            "f1-score-macro :  0.06413078149920254\n",
            "f1-score-micro :  0.13432835820895522\n",
            "fbeta-score-macro :  0.06413078149920254\n",
            "fbeta-score-micro :  0.13432835820895522\n",
            "accuracy-score :  0.057692307692307696\n",
            "hamming-loss :  0.11740890688259109\n",
            "jaccard-score-macro :  0.03588039217329836\n",
            "jaccard-score-micro :  0.072\n",
            "log-loss :  30.110476555727377\n",
            "precision-score-per-label :  [0.0, 0.2222222222222222, 0.16666666666666666, 0.0, 0.0, 0.0, 0.0, 0.0, 0.4, 1.0, 0.25, 0.0, 0.0, 0.0, 1.0, 0.0, 0.0, 0.0, 0.0]\n",
            "recall-score-per-label :  [0.0, 0.125, 0.25, 0.0, 0.0, 0.0, 0.0, 0.0, 0.2, 0.1, 0.11764705882352941, 0.0, 0.0, 0.0, 0.14285714285714285, 0.0, 0.0, 0.0, 0.0]\n",
            "f1-score-per-label :  [0.0, 0.16, 0.2, 0.0, 0.0, 0.0, 0.0, 0.0, 0.26666666666666666, 0.18181818181818182, 0.15999999999999998, 0.0, 0.0, 0.0, 0.25, 0.0, 0.0, 0.0, 0.0]\n",
            "fbeta-score-per-label :  [0.0, 0.16, 0.2, 0.0, 0.0, 0.0, 0.0, 0.0, 0.26666666666666666, 0.18181818181818182, 0.15999999999999998, 0.0, 0.0, 0.0, 0.25, 0.0, 0.0, 0.0, 0.0]\n",
            "jaccard-score-per-label :  [0.0, 0.08695652173913043, 0.1111111111111111, 0.0, 0.0, 0.0, 0.0, 0.0, 0.15384615384615385, 0.1, 0.08695652173913043, 0.0, 0.0, 0.0, 0.14285714285714285, 0.0, 0.0, 0.0, 0.0]\n",
            "\n",
            "precision-score-macro,precision-score-micro,average-precision-score-macro,average-precision-score-micro,recall-score-macro,recall-score-micro,f1-score-macro,f1-score-micro,fbeta-score-macro,fbeta-score-micro,accuracy-score,hamming-loss,jaccard-score-macro,jaccard-score-micro,log-loss,precision-score-per-label,recall-score-per-label,f1-score-per-label,fbeta-score-per-label,jaccard-score-per-label\n",
            "0.15994152046783625,0.2647058823529412,0.11430070273723521,0.11592879256965943,0.04923706324635117,0.09,0.06413078149920254,0.13432835820895522,0.06413078149920254,0.13432835820895522,0.057692307692307696,0.11740890688259109,0.03588039217329836,0.072,30.110476555727377,[0.0, 0.2222222222222222, 0.16666666666666666, 0.0, 0.0, 0.0, 0.0, 0.0, 0.4, 1.0, 0.25, 0.0, 0.0, 0.0, 1.0, 0.0, 0.0, 0.0, 0.0],[0.0, 0.125, 0.25, 0.0, 0.0, 0.0, 0.0, 0.0, 0.2, 0.1, 0.11764705882352941, 0.0, 0.0, 0.0, 0.14285714285714285, 0.0, 0.0, 0.0, 0.0],[0.0, 0.16, 0.2, 0.0, 0.0, 0.0, 0.0, 0.0, 0.26666666666666666, 0.18181818181818182, 0.15999999999999998, 0.0, 0.0, 0.0, 0.25, 0.0, 0.0, 0.0, 0.0],[0.0, 0.16, 0.2, 0.0, 0.0, 0.0, 0.0, 0.0, 0.26666666666666666, 0.18181818181818182, 0.15999999999999998, 0.0, 0.0, 0.0, 0.25, 0.0, 0.0, 0.0, 0.0],[0.0, 0.08695652173913043, 0.1111111111111111, 0.0, 0.0, 0.0, 0.0, 0.0, 0.15384615384615385, 0.1, 0.08695652173913043, 0.0, 0.0, 0.0, 0.14285714285714285, 0.0, 0.0, 0.0, 0.0]\n"
          ]
        },
        {
          "output_type": "stream",
          "name": "stderr",
          "text": [
            "/usr/local/lib/python3.10/dist-packages/sklearn/metrics/_ranking.py:891: UserWarning: No positive class found in y_true, recall is set to one for all thresholds.\n",
            "  warnings.warn(\n",
            "/usr/local/lib/python3.10/dist-packages/sklearn/metrics/_ranking.py:891: UserWarning: No positive class found in y_true, recall is set to one for all thresholds.\n",
            "  warnings.warn(\n"
          ]
        }
      ]
    }
  ]
}