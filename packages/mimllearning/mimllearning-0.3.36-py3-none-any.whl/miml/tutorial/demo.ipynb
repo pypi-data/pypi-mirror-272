{
  "nbformat": 4,
  "nbformat_minor": 0,
  "metadata": {
    "colab": {
      "provenance": []
    },
    "kernelspec": {
      "name": "python3",
      "display_name": "Python 3"
    },
    "language_info": {
      "name": "python"
    }
  },
  "cells": [
    {
      "cell_type": "markdown",
      "source": [
        "#Installation and requirements of library\n"
      ],
      "metadata": {
        "id": "UwOvUSvR-8Sm"
      }
    },
    {
      "cell_type": "code",
      "source": [
        "!pip install mimllearning\n",
        "!pip install mil\n",
        "!pip install tensorflow\n",
        "!pip install keras==2.12.0"
      ],
      "metadata": {
        "id": "jZMmibMJcRf2"
      },
      "execution_count": null,
      "outputs": []
    },
    {
      "cell_type": "markdown",
      "source": [
        "# Loading of datasets"
      ],
      "metadata": {
        "id": "AYTbl78HBtuZ"
      }
    },
    {
      "cell_type": "code",
      "execution_count": 4,
      "metadata": {
        "id": "L-_qkpnOxj_V"
      },
      "outputs": [],
      "source": [
        "import pkg_resources\n",
        "from miml.data.load_datasets import load_dataset, load_toy\n",
        "\n",
        "dataset_train = load_dataset(pkg_resources.resource_filename('miml', 'datasets/miml_birds_random_80train.arff'),\n",
        "                             delimiter=\"'\")\n",
        "dataset_test = load_dataset(pkg_resources.resource_filename('miml', 'datasets/miml_birds_random_20test.arff'),\n",
        "                            delimiter=\"'\")"
      ]
    },
    {
      "cell_type": "markdown",
      "source": [
        "# MIMLtoML Classifier"
      ],
      "metadata": {
        "id": "Rf5EX0HXEtZA"
      }
    },
    {
      "cell_type": "code",
      "source": [
        "from sklearn.neighbors import KNeighborsClassifier\n",
        "from miml.transformation import ArithmeticTransformation\n",
        "from miml.classifier import MIMLtoMLClassifier\n",
        "\n",
        "classifier_ml = MIMLtoMLClassifier(KNeighborsClassifier(), ArithmeticTransformation())\n",
        "classifier_ml.fit(dataset_train)"
      ],
      "metadata": {
        "id": "c1OvYWW9Eyhw"
      },
      "execution_count": 5,
      "outputs": []
    },
    {
      "cell_type": "markdown",
      "source": [
        "# MIMLtoMI Classifier\n"
      ],
      "metadata": {
        "id": "KCupyHfc9c0F"
      }
    },
    {
      "cell_type": "code",
      "source": [
        "from miml.classifier import MIMLtoMIBRClassifier, AllPositiveAPRClassifier\n",
        "\n",
        "classifier_mi = MIMLtoMIBRClassifier(AllPositiveAPRClassifier())\n",
        "classifier_mi.fit(dataset_train)"
      ],
      "metadata": {
        "id": "J7CxjYzK9jdX"
      },
      "execution_count": 6,
      "outputs": []
    },
    {
      "cell_type": "markdown",
      "source": [
        "# Prediction of a bag"
      ],
      "metadata": {
        "id": "6aovUjKBxVmw"
      }
    },
    {
      "cell_type": "code",
      "source": [
        "print(\"MIMLtoML Classifier\")\n",
        "print(\"-------------------\")\n",
        "print(\"\")\n",
        "print(\"True Labels:       \", dataset_test.get_bag(\"366\").get_labels()[0])\n",
        "print(\"Predicted Labels: \", classifier_ml.predict_bag(dataset_test.get_bag(\"366\")))\n",
        "print(\"\")\n",
        "print(\"MIMLtoMI Classifier\")\n",
        "print(\"-------------------\")\n",
        "print(\"\")\n",
        "print(\"True Labels:      \", dataset_test.get_bag(\"366\").get_labels()[0])\n",
        "print(\"Predicted Labels: \", classifier_mi.predict_bag(dataset_test.get_bag(\"366\")))"
      ],
      "metadata": {
        "colab": {
          "base_uri": "https://localhost:8080/"
        },
        "id": "2oUifr2vxY8L",
        "outputId": "4991b1ee-9a64-4bf7-c055-9b3dab1050cf"
      },
      "execution_count": 7,
      "outputs": [
        {
          "output_type": "stream",
          "name": "stdout",
          "text": [
            "MIMLtoML Classifier\n",
            "-------------------\n",
            "\n",
            "True Labels:        [0. 0. 0. 0. 0. 0. 0. 0. 0. 1. 0. 0. 0. 1. 0. 0. 0. 0. 0.]\n",
            "Predicted Labels:  [[0. 0. 0. 0. 0. 0. 0. 0. 0. 0. 1. 0. 0. 0. 0. 0. 0. 0. 0.]]\n",
            "\n",
            "MIMLtoMI Classifier\n",
            "-------------------\n",
            "\n",
            "True Labels:       [0. 0. 0. 0. 0. 0. 0. 0. 0. 1. 0. 0. 0. 1. 0. 0. 0. 0. 0.]\n",
            "Predicted Labels:  [0. 0. 0. 0. 0. 0. 0. 0. 0. 1. 1. 0. 0. 0. 0. 0. 0. 0. 0.]\n"
          ]
        }
      ]
    },
    {
      "cell_type": "markdown",
      "source": [
        "#  Report ML\n"
      ],
      "metadata": {
        "id": "3Ns-WjntvZEH"
      }
    },
    {
      "cell_type": "code",
      "source": [
        "from miml.report import Report\n",
        "\n",
        "report = Report(classifier_ml, dataset_test, per_label=False)\n",
        "report.to_string()\n",
        "print(\"\")\n",
        "report.to_csv()"
      ],
      "metadata": {
        "colab": {
          "base_uri": "https://localhost:8080/"
        },
        "id": "ysIgN-dkvc8r",
        "outputId": "5d5423de-c417-451a-8be1-2e3a4cab5559"
      },
      "execution_count": 10,
      "outputs": [
        {
          "output_type": "stream",
          "name": "stdout",
          "text": [
            "precision-score-macro :  0.15994152046783625\n",
            "precision-score-micro :  0.2647058823529412\n",
            "average-precision-score-macro :  0.14935540515371115\n",
            "average-precision-score-micro :  0.19872173297119117\n",
            "recall-score-macro :  0.04923706324635117\n",
            "recall-score-micro :  0.09\n",
            "f1-score-macro :  0.06413078149920254\n",
            "f1-score-micro :  0.13432835820895522\n",
            "fbeta-score-macro :  0.06413078149920254\n",
            "fbeta-score-micro :  0.13432835820895522\n",
            "accuracy-score :  0.057692307692307696\n",
            "hamming-loss :  0.11740890688259109\n",
            "jaccard-score-macro :  0.03588039217329836\n",
            "jaccard-score-micro :  0.072\n",
            "log-loss :  24.54438872787161\n",
            "\n",
            "precision-score-macro,precision-score-micro,average-precision-score-macro,average-precision-score-micro,recall-score-macro,recall-score-micro,f1-score-macro,f1-score-micro,fbeta-score-macro,fbeta-score-micro,accuracy-score,hamming-loss,jaccard-score-macro,jaccard-score-micro,log-loss\n",
            "0.15994152046783625,0.2647058823529412,0.14935540515371115,0.19872173297119117,0.04923706324635117,0.09,0.06413078149920254,0.13432835820895522,0.06413078149920254,0.13432835820895522,0.057692307692307696,0.11740890688259109,0.03588039217329836,0.072,24.54438872787161\n"
          ]
        }
      ]
    },
    {
      "cell_type": "markdown",
      "source": [
        "# Report MI"
      ],
      "metadata": {
        "id": "5VmZnFleZUMZ"
      }
    },
    {
      "cell_type": "code",
      "source": [
        "report = Report(classifier_mi, dataset_test)\n",
        "report.to_string()\n",
        "print(\"\")\n",
        "report.to_csv()"
      ],
      "metadata": {
        "colab": {
          "base_uri": "https://localhost:8080/"
        },
        "id": "_blawc4pZWuH",
        "outputId": "1153b4a3-1c83-4dff-dbe0-88b3cdce6797"
      },
      "execution_count": 12,
      "outputs": [
        {
          "output_type": "stream",
          "name": "stdout",
          "text": [
            "precision-score-macro :  0.1303731663842467\n",
            "precision-score-micro :  0.22485207100591717\n",
            "average-precision-score-macro :  0.12150756876844539\n",
            "average-precision-score-micro :  0.14819682341949547\n",
            "recall-score-macro :  0.25229986731534715\n",
            "recall-score-micro :  0.38\n",
            "f1-score-macro :  0.16567017223361705\n",
            "f1-score-micro :  0.2825278810408922\n",
            "fbeta-score-macro :  0.16567017223361705\n",
            "fbeta-score-micro :  0.2825278810408922\n",
            "accuracy-score :  0.019230769230769232\n",
            "hamming-loss :  0.19534412955465588\n",
            "jaccard-score-macro :  0.09851845957380101\n",
            "jaccard-score-micro :  0.1645021645021645\n",
            "log-loss :  24.234665595432148\n",
            "precision-score-BRCR :  0.0\n",
            "precision-score-PAWR :  0.4\n",
            "precision-score-PSFL :  0.07692307692307693\n",
            "precision-score-RBNU :  0.0\n",
            "precision-score-DEJU :  0.14285714285714285\n",
            "precision-score-OSFL :  0.0\n",
            "precision-score-HETH :  0.13333333333333333\n",
            "precision-score-CBCH :  0.2222222222222222\n",
            "precision-score-VATH :  0.2777777777777778\n",
            "precision-score-HEWA :  0.21052631578947367\n",
            "precision-score-SWTH :  0.3\n",
            "precision-score-HAFL :  0.0\n",
            "precision-score-WETA :  0.2222222222222222\n",
            "precision-score-BHGB :  0.0\n",
            "precision-score-GCKI :  0.15789473684210525\n",
            "precision-score-WAVI :  0.0\n",
            "precision-score-MGWA :  0.0\n",
            "precision-score-STJA :  0.0\n",
            "precision-score-CONI :  0.3333333333333333\n",
            "recall-score-BRCR :  0.0\n",
            "recall-score-PAWR :  0.5\n",
            "recall-score-PSFL :  0.25\n",
            "recall-score-RBNU :  0.0\n",
            "recall-score-DEJU :  0.5\n",
            "recall-score-OSFL :  0.0\n",
            "recall-score-HETH :  0.4\n",
            "recall-score-CBCH :  0.2857142857142857\n",
            "recall-score-VATH :  0.5\n",
            "recall-score-HEWA :  0.4\n",
            "recall-score-SWTH :  0.5294117647058824\n",
            "recall-score-HAFL :  0.0\n",
            "recall-score-WETA :  0.6666666666666666\n",
            "recall-score-BHGB :  0.0\n",
            "recall-score-GCKI :  0.42857142857142855\n",
            "recall-score-WAVI :  0.0\n",
            "recall-score-MGWA :  0.0\n",
            "recall-score-STJA :  0.0\n",
            "recall-score-CONI :  0.3333333333333333\n",
            "f1-score-BRCR :  0.0\n",
            "f1-score-PAWR :  0.4444444444444445\n",
            "f1-score-PSFL :  0.11764705882352941\n",
            "f1-score-RBNU :  0.0\n",
            "f1-score-DEJU :  0.22222222222222224\n",
            "f1-score-OSFL :  0.0\n",
            "f1-score-HETH :  0.2\n",
            "f1-score-CBCH :  0.25\n",
            "f1-score-VATH :  0.35714285714285715\n",
            "f1-score-HEWA :  0.27586206896551724\n",
            "f1-score-SWTH :  0.3829787234042553\n",
            "f1-score-HAFL :  0.0\n",
            "f1-score-WETA :  0.3333333333333333\n",
            "f1-score-BHGB :  0.0\n",
            "f1-score-GCKI :  0.23076923076923078\n",
            "f1-score-WAVI :  0.0\n",
            "f1-score-MGWA :  0.0\n",
            "f1-score-STJA :  0.0\n",
            "f1-score-CONI :  0.3333333333333333\n",
            "fbeta-score-BRCR :  0.0\n",
            "fbeta-score-PAWR :  0.4444444444444445\n",
            "fbeta-score-PSFL :  0.11764705882352941\n",
            "fbeta-score-RBNU :  0.0\n",
            "fbeta-score-DEJU :  0.22222222222222224\n",
            "fbeta-score-OSFL :  0.0\n",
            "fbeta-score-HETH :  0.2\n",
            "fbeta-score-CBCH :  0.25\n",
            "fbeta-score-VATH :  0.35714285714285715\n",
            "fbeta-score-HEWA :  0.27586206896551724\n",
            "fbeta-score-SWTH :  0.3829787234042553\n",
            "fbeta-score-HAFL :  0.0\n",
            "fbeta-score-WETA :  0.3333333333333333\n",
            "fbeta-score-BHGB :  0.0\n",
            "fbeta-score-GCKI :  0.23076923076923078\n",
            "fbeta-score-WAVI :  0.0\n",
            "fbeta-score-MGWA :  0.0\n",
            "fbeta-score-STJA :  0.0\n",
            "fbeta-score-CONI :  0.3333333333333333\n",
            "jaccard-score-BRCR :  0.0\n",
            "jaccard-score-PAWR :  0.2857142857142857\n",
            "jaccard-score-PSFL :  0.0625\n",
            "jaccard-score-RBNU :  0.0\n",
            "jaccard-score-DEJU :  0.125\n",
            "jaccard-score-OSFL :  0.0\n",
            "jaccard-score-HETH :  0.1111111111111111\n",
            "jaccard-score-CBCH :  0.14285714285714285\n",
            "jaccard-score-VATH :  0.21739130434782608\n",
            "jaccard-score-HEWA :  0.16\n",
            "jaccard-score-SWTH :  0.23684210526315788\n",
            "jaccard-score-HAFL :  0.0\n",
            "jaccard-score-WETA :  0.2\n",
            "jaccard-score-BHGB :  0.0\n",
            "jaccard-score-GCKI :  0.13043478260869565\n",
            "jaccard-score-WAVI :  0.0\n",
            "jaccard-score-MGWA :  0.0\n",
            "jaccard-score-STJA :  0.0\n",
            "jaccard-score-CONI :  0.2\n",
            "\n",
            "precision-score-macro,precision-score-micro,average-precision-score-macro,average-precision-score-micro,recall-score-macro,recall-score-micro,f1-score-macro,f1-score-micro,fbeta-score-macro,fbeta-score-micro,accuracy-score,hamming-loss,jaccard-score-macro,jaccard-score-micro,log-loss,precision-score-BRCR,precision-score-PAWR,precision-score-PSFL,precision-score-RBNU,precision-score-DEJU,precision-score-OSFL,precision-score-HETH,precision-score-CBCH,precision-score-VATH,precision-score-HEWA,precision-score-SWTH,precision-score-HAFL,precision-score-WETA,precision-score-BHGB,precision-score-GCKI,precision-score-WAVI,precision-score-MGWA,precision-score-STJA,precision-score-CONI,recall-score-BRCR,recall-score-PAWR,recall-score-PSFL,recall-score-RBNU,recall-score-DEJU,recall-score-OSFL,recall-score-HETH,recall-score-CBCH,recall-score-VATH,recall-score-HEWA,recall-score-SWTH,recall-score-HAFL,recall-score-WETA,recall-score-BHGB,recall-score-GCKI,recall-score-WAVI,recall-score-MGWA,recall-score-STJA,recall-score-CONI,f1-score-BRCR,f1-score-PAWR,f1-score-PSFL,f1-score-RBNU,f1-score-DEJU,f1-score-OSFL,f1-score-HETH,f1-score-CBCH,f1-score-VATH,f1-score-HEWA,f1-score-SWTH,f1-score-HAFL,f1-score-WETA,f1-score-BHGB,f1-score-GCKI,f1-score-WAVI,f1-score-MGWA,f1-score-STJA,f1-score-CONI,fbeta-score-BRCR,fbeta-score-PAWR,fbeta-score-PSFL,fbeta-score-RBNU,fbeta-score-DEJU,fbeta-score-OSFL,fbeta-score-HETH,fbeta-score-CBCH,fbeta-score-VATH,fbeta-score-HEWA,fbeta-score-SWTH,fbeta-score-HAFL,fbeta-score-WETA,fbeta-score-BHGB,fbeta-score-GCKI,fbeta-score-WAVI,fbeta-score-MGWA,fbeta-score-STJA,fbeta-score-CONI,jaccard-score-BRCR,jaccard-score-PAWR,jaccard-score-PSFL,jaccard-score-RBNU,jaccard-score-DEJU,jaccard-score-OSFL,jaccard-score-HETH,jaccard-score-CBCH,jaccard-score-VATH,jaccard-score-HEWA,jaccard-score-SWTH,jaccard-score-HAFL,jaccard-score-WETA,jaccard-score-BHGB,jaccard-score-GCKI,jaccard-score-WAVI,jaccard-score-MGWA,jaccard-score-STJA,jaccard-score-CONI\n",
            "0.1303731663842467,0.22485207100591717,0.12150756876844539,0.14819682341949547,0.25229986731534715,0.38,0.16567017223361705,0.2825278810408922,0.16567017223361705,0.2825278810408922,0.019230769230769232,0.19534412955465588,0.09851845957380101,0.1645021645021645,24.234665595432148,0.0,0.4,0.07692307692307693,0.0,0.14285714285714285,0.0,0.13333333333333333,0.2222222222222222,0.2777777777777778,0.21052631578947367,0.3,0.0,0.2222222222222222,0.0,0.15789473684210525,0.0,0.0,0.0,0.3333333333333333,0.0,0.5,0.25,0.0,0.5,0.0,0.4,0.2857142857142857,0.5,0.4,0.5294117647058824,0.0,0.6666666666666666,0.0,0.42857142857142855,0.0,0.0,0.0,0.3333333333333333,0.0,0.4444444444444445,0.11764705882352941,0.0,0.22222222222222224,0.0,0.2,0.25,0.35714285714285715,0.27586206896551724,0.3829787234042553,0.0,0.3333333333333333,0.0,0.23076923076923078,0.0,0.0,0.0,0.3333333333333333,0.0,0.4444444444444445,0.11764705882352941,0.0,0.22222222222222224,0.0,0.2,0.25,0.35714285714285715,0.27586206896551724,0.3829787234042553,0.0,0.3333333333333333,0.0,0.23076923076923078,0.0,0.0,0.0,0.3333333333333333,0.0,0.2857142857142857,0.0625,0.0,0.125,0.0,0.1111111111111111,0.14285714285714285,0.21739130434782608,0.16,0.23684210526315788,0.0,0.2,0.0,0.13043478260869565,0.0,0.0,0.0,0.2\n"
          ]
        }
      ]
    }
  ]
}