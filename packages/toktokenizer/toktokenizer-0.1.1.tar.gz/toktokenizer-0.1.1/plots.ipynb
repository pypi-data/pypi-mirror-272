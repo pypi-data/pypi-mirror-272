{
 "cells": [
  {
   "cell_type": "code",
   "execution_count": 64,
   "metadata": {},
   "outputs": [],
   "source": [
    "import matplotlib.pyplot as plt\n",
    "import matplotlib\n",
    "import matplotlib.patches as mpatches\n",
    "matplotlib.rcParams['axes.linewidth'] = 2"
   ]
  },
  {
   "cell_type": "code",
   "execution_count": 78,
   "metadata": {},
   "outputs": [
    {
     "name": "stderr",
     "output_type": "stream",
     "text": [
      "/var/folders/km/gzpvwhgs1wzdtjck5sp3b5lm0000gn/T/ipykernel_59876/2151971495.py:17: UserWarning: FixedFormatter should only be used together with FixedLocator\n",
      "  ax.set_xticklabels(labels, fontsize=13)\n",
      "/var/folders/km/gzpvwhgs1wzdtjck5sp3b5lm0000gn/T/ipykernel_59876/2151971495.py:18: UserWarning: FixedFormatter should only be used together with FixedLocator\n",
      "  ax.set_yticklabels([f\"{5*i} MB/s\" for i in range(5)], fontsize=13)\n"
     ]
    },
    {
     "data": {
      "image/png": "[encoded data removed]",
      "text/plain": [
       "<Figure size 432x432 with 1 Axes>"
      ]
     },
     "metadata": {
      "needs_background": "light"
     },
     "output_type": "display_data"
    }
   ],
   "source": [
    "speeds = {\"tok\": 16.18, \"huggingface\": 4.89, \"openai\": 22.98}\n",
    "\n",
    "# plt.rc(\"font\", size=25)\n",
    "fig, ax = plt.subplots(figsize = (6,6))\n",
    "# ax.axis(\"off\")\n",
    "ax.spines[['top', 'left', 'right']].set_visible(False)\n",
    "\n",
    "# reverse order of both labels and speeds\n",
    "labels = list(speeds.keys())\n",
    "speeds = list(speeds.values())\n",
    "speeds = [round(s,2) for s in speeds]\n",
    "\n",
    "colors = [\"#fcba03\", \"#039dfc\", \"#eb4034\"]\n",
    "\n",
    "plt.grid(axis='y',)\n",
    "bars = ax.bar(range(len(speeds)), speeds, width = 0.5, align=\"center\", color = colors)\n",
    "ax.set_xticklabels(labels, fontsize=13)\n",
    "ax.set_yticklabels([f\"{5*i} MB/s\" for i in range(5)], fontsize=13)\n",
    "ax.set_xticks(range(len(labels)), [])\n",
    "plt.tick_params(axis='x', which='both', bottom=False, top=False)\n",
    "plt.ylabel(\"Throughput\", fontsize=13)\n",
    "\n",
    "for bar in bars:\n",
    "    bar.set_zorder(2)\n",
    "\n",
    "    \n",
    "legend_labels = labels\n",
    "legend_handles = [mpatches.Patch(color=colors[i]) for i in range(len(legend_labels))]\n",
    "plt.legend(legend_handles, legend_labels, loc='upper left', bbox_to_anchor=(0.35, 0.61), frameon=False, handlelength=1, handleheight=1)\n",
    "\n",
    "plt.savefig(\"performance.png\")"
   ]
  },
  {
   "cell_type": "code",
   "execution_count": null,
   "metadata": {},
   "outputs": [],
   "source": []
  }
 ],
 "metadata": {
  "kernelspec": {
   "display_name": "Python 3 (ipykernel)",
   "language": "python",
   "name": "python3"
  },
  "language_info": {
   "codemirror_mode": {
    "name": "ipython",
    "version": 3
   },
   "file_extension": ".py",
   "mimetype": "text/x-python",
   "name": "python",
   "nbconvert_exporter": "python",
   "pygments_lexer": "ipython3",
   "version": "3.9.3"
  }
 },
 "nbformat": 4,
 "nbformat_minor": 4
}
