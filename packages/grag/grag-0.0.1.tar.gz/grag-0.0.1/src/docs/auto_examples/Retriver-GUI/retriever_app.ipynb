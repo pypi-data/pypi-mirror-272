{
  "cells": [
    {
      "cell_type": "markdown",
      "metadata": {},
      "source": [
        "# Retriever GUI\nThis cookbook demonstrates a simple GUI for the retriever using Stremlit.\n"
      ]
    },
    {
      "cell_type": "code",
      "execution_count": null,
      "metadata": {
        "collapsed": false
      },
      "outputs": [],
      "source": [
        "import os\nimport sys\nfrom pathlib import Path\n\nimport streamlit as st\n\nsys.path.insert(1, str(Path(os.getcwd()).parents[1]))\n\nfrom grag.components.multivec_retriever import Retriever\n\n\nclass PageHome:\n    \"\"\"Manages the home page interface and interactions in a web application.\n\n    Attributes:\n        app: The application instance holding components like the retriever.\n    \"\"\"\n\n    def __init__(self, app):\n        \"\"\"Initializes the PageHome with the application instance.\n\n        Args:\n            app: The application instance.\n        \"\"\"\n        self.app = app\n\n    def render_sidebar(self):\n        \"\"\"Renders the sidebar options for the application.\"\"\"\n        with st.sidebar:\n            st.session_state.metadata_toggle = st.toggle(\"Show Metadata\")\n            st.session_state.top_k = st.number_input(\n                \"Show Top K\", min_value=0, value=3, step=1\n            )\n\n    def render_search_form(self):\n        \"\"\"Renders the search form and returns the state of the search button.\"\"\"\n        st.markdown(\"Enter query\")\n        with st.form(\"search_form\"):\n            st.session_state.query = st.text_input(\n                \"Query:\", value=\"What is Artificial Intelligence?\"\n            )\n            return st.form_submit_button(\"Search\")\n\n    def get_search_results(self, _query, _top_k):\n        \"\"\"Retrieves search results based on the query and top_k parameter.\n\n        Args:\n            _query: The search query.\n            _top_k: The number of top results to retrieve.\n\n        Returns:\n            A list of search results with scores.\n        \"\"\"\n        return self.app.retriever.get_chunk(_query, top_k=_top_k, with_score=True)\n\n    def render_search_results(self):\n        \"\"\"Displays the search results.\"\"\"\n        with st.spinner(\"Searching for similar chunks with :\" + st.session_state.query):\n            results = self.get_search_results(\n                st.session_state.query, st.session_state.top_k\n            )\n            has_results = len(results) != 0\n        if not has_results:\n            return st.markdown(\"Could not find anything similar.\")\n        # st.write(results)\n        for i, (result, score) in enumerate(results):\n            with st.expander(f\":bulb:**{i}** - Similiarity Score: {score:.3f}\"):\n                st.write(result.page_content)\n                if st.session_state.metadata_toggle:\n                    st.write(result.metadata)\n\n    def check_connection(self):\n        \"\"\"Checks the connection to the search backend.\n\n        Returns:\n            True if the connection is active, False otherwise.\n        \"\"\"\n        response = self.app.retriever.vectordb.test_connection()\n        if response:\n            return True\n        else:\n            return False\n\n    def render_stats(self):\n        \"\"\"Renders statistics and details about the search backend.\"\"\"\n        st.write(f\"\"\"\n        **Chroma Client Details:** \\n\n            Host Address    : {self.app.retriever.vectordb.host}:{self.app.retriever.vectordb.port} \\n\n            Collection Name : {self.app.retriever.vectordb.collection_name} \\n\n            Embeddings Type : {self.app.retriever.vectordb.embedding_type} \\n\n            Embeddings Model: {self.app.retriever.vectordb.embedding_model} \\n\n            Number of docs  : {self.app.retriever.vectordb.collection.count()} \\n\n        \"\"\")\n        if st.button(\"Check Connection\"):\n            response = self.app.retriever.vectordb.test_connection()\n            if response:\n                st.write(\":green[Connection Active]\")\n            else:\n                st.write(\":red[Connection Lost]\")\n\n    def render(self):\n        \"\"\"Main rendering function for the home page, orchestrating the UI components.\"\"\"\n        self.render_sidebar()\n        tab1, tab2 = st.tabs([\"Search\", \"Details\"])\n        with tab1:\n            submitted = self.render_search_form()\n            if submitted:\n                self.render_search_results()\n        with tab2:\n            self.render_stats()\n\n\nclass App:\n    \"\"\"Represents the main application for the Retriever system.\n\n    This class initializes the application and sets up the main interface.\n    \"\"\"\n\n    def __init__(self):\n        \"\"\"Initializes the application with a Retriever instance.\"\"\"\n        self.retriever = Retriever()\n\n    def render(self):\n        \"\"\"Renders the application title and the home page interface.\"\"\"\n        st.title(\"Retriever App\")\n        PageHome(self).render()\n\n\nif __name__ == \"__main__\":\n    App().render()\n\n# based on https://blog.streamlit.io/finding-your-look-alikes-with-semantic-search/"
      ]
    }
  ],
  "metadata": {
    "kernelspec": {
      "display_name": "Python 3",
      "language": "python",
      "name": "python3"
    },
    "language_info": {
      "codemirror_mode": {
        "name": "ipython",
        "version": 3
      },
      "file_extension": ".py",
      "mimetype": "text/x-python",
      "name": "python",
      "nbconvert_exporter": "python",
      "pygments_lexer": "ipython3",
      "version": "3.11.7"
    }
  },
  "nbformat": 4,
  "nbformat_minor": 0
}