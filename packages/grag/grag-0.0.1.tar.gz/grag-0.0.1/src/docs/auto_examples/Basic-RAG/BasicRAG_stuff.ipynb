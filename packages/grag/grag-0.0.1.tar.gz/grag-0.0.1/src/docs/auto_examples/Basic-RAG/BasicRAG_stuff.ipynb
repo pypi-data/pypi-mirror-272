{
  "cells": [
    {
      "cell_type": "markdown",
      "metadata": {},
      "source": [
        "# Stuff Chain\nThis cookbook demonstrates how to use the stuff chain for BasicRAG.\nFor more information, refer to [RAG-PIPELINES](https://github.com/arjbingly/Capstone_5/blob/main/cookbook/Basic-RAG/RAG-PIPELINES.md\n/).\n\n.. figure:: ../../_static/stuff_chain_langchain_illustration.jpg\n  :width: 800\n  :alt: Stuff Documents Chain Process\n  :align: center\n\n  Illustration of stuff chain (Source: LangChain)\n\n\n`Note that this cookbook assumes that you already have the` ``Llama-2-13b-chat`` `LLM ready,`\n`for more details on how to quantize and run an LLM locally,`\n`refer to the LLM section under Getting Started.`\n"
      ]
    },
    {
      "cell_type": "code",
      "execution_count": null,
      "metadata": {
        "collapsed": false
      },
      "outputs": [],
      "source": [
        "from grag.components.multivec_retriever import Retriever\nfrom grag.components.vectordb.deeplake_client import DeepLakeClient\nfrom grag.rag.basic_rag import BasicRAG\n\nclient = DeepLakeClient(collection_name=\"grag\")\nretriever = Retriever(vectordb=client)\n\nrag = BasicRAG(model_name=\"Llama-2-13b-chat\", retriever=retriever)\n# Note that doc_chain='stuff' is the default hence not passed to the class explicitly.\n\n\nif __name__ == \"__main__\":\n    while True:\n        query = input(\"Query:\")\n        rag(query)"
      ]
    }
  ],
  "metadata": {
    "kernelspec": {
      "display_name": "Python 3",
      "language": "python",
      "name": "python3"
    },
    "language_info": {
      "codemirror_mode": {
        "name": "ipython",
        "version": 3
      },
      "file_extension": ".py",
      "mimetype": "text/x-python",
      "name": "python",
      "nbconvert_exporter": "python",
      "pygments_lexer": "ipython3",
      "version": "3.11.7"
    }
  },
  "nbformat": 4,
  "nbformat_minor": 0
}