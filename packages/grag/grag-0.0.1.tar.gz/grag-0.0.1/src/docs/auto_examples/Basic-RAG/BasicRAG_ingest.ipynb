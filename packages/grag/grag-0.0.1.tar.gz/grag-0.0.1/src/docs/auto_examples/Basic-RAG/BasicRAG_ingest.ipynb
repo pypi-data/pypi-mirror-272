{
  "cells": [
    {
      "cell_type": "markdown",
      "metadata": {},
      "source": [
        "# Document Ingestion\nThis cookbook demonstrates how to ingest pdf documents into a vector database.\n"
      ]
    },
    {
      "cell_type": "code",
      "execution_count": null,
      "metadata": {
        "collapsed": false
      },
      "outputs": [],
      "source": [
        "import asyncio\nfrom pathlib import Path\n\nfrom grag.components.multivec_retriever import Retriever\nfrom grag.components.vectordb.deeplake_client import DeepLakeClient\n\nclient = DeepLakeClient(collection_name=\"grag\")\n\n## Alternatively to use Chroma\n# from grag.components.vectordb.chroma_client import ChromaClient\n# client = ChromaClient(collection_name=\"grag\")\n\nASYNC = True\n\nretriever = Retriever(vectordb=client)\n\ndir_path = (\n    Path(__file__).parents[2] / \"data/pdf\"\n)  # path to the folder containing the pdfs\n\nif ASYNC:\n    asyncio.run(retriever.aingest(dir_path))\nelse:\n    retriever.ingest(dir_path)"
      ]
    }
  ],
  "metadata": {
    "kernelspec": {
      "display_name": "Python 3",
      "language": "python",
      "name": "python3"
    },
    "language_info": {
      "codemirror_mode": {
        "name": "ipython",
        "version": 3
      },
      "file_extension": ".py",
      "mimetype": "text/x-python",
      "name": "python",
      "nbconvert_exporter": "python",
      "pygments_lexer": "ipython3",
      "version": "3.11.7"
    }
  },
  "nbformat": 4,
  "nbformat_minor": 0
}