{
  "cells": [
    {
      "cell_type": "markdown",
      "metadata": {},
      "source": [
        "# Custom Few-Shot Prompts\nThis cookbook demonstrates how to use custom few-shot prompts with Basic RAG.\n\n`Note that this cookbook assumes that you already have the` ``Llama-2-13b-chat`` `LLM ready, `\n`for more details on how to quantize and run an LLM locally, `\n`refer to the LLM section under Getting Started.`\n\n`Note that this cookbook also assumes that you have already ingested documents into a DeepLake collection called 'grag'`\n`for more details on how to ingest documents refer to the cookbook called` ``Document Ingestion``.\n"
      ]
    },
    {
      "cell_type": "code",
      "execution_count": null,
      "metadata": {
        "collapsed": false
      },
      "outputs": [],
      "source": [
        "from grag.components.multivec_retriever import Retriever\nfrom grag.components.prompt import FewShotPrompt\nfrom grag.components.vectordb.deeplake_client import DeepLakeClient\nfrom grag.rag.basic_rag import BasicRAG\n\ncustom_few_shot_prompt = FewShotPrompt(\n    input_keys={\"context\", \"question\"},\n    output_keys={\"answer\"},\n    example_template=\"\"\"\n    question: {question}\n    answer: {answer}\n    \"\"\",\n    prefix=\"\"\"Answer the following question based on the given context like examples given below:\"\"\",\n    suffix=\"\"\"Answer the following question based on the given context\n    question: {question}\n    context: {context}\n    answer:\n    \"\"\",\n    examples=[\n        {\n            \"question\": \"What is the name of largest planet?\",\n            \"answer\": \"Jupiter is the largest planet.\",\n        },\n        {\n            \"question\": \"Who came up with Convolutional Neural Networks?\",\n            \"answer\": \"Yann LeCun introduced convolutional neural networks.\",\n        },\n    ],\n)\n\nclient = DeepLakeClient(collection_name=\"grag\")\nretriever = Retriever(vectordb=client)\nrag = BasicRAG(\n    model_name=\"Llama-2-13b-chat\",\n    custom_prompt=custom_few_shot_prompt,\n    retriever=retriever,\n)\n\nif __name__ == \"__main__\":\n    while True:\n        query = input(\"Query:\")\n        rag(query)"
      ]
    }
  ],
  "metadata": {
    "kernelspec": {
      "display_name": "Python 3",
      "language": "python",
      "name": "python3"
    },
    "language_info": {
      "codemirror_mode": {
        "name": "ipython",
        "version": 3
      },
      "file_extension": ".py",
      "mimetype": "text/x-python",
      "name": "python",
      "nbconvert_exporter": "python",
      "pygments_lexer": "ipython3",
      "version": "3.11.7"
    }
  },
  "nbformat": 4,
  "nbformat_minor": 0
}