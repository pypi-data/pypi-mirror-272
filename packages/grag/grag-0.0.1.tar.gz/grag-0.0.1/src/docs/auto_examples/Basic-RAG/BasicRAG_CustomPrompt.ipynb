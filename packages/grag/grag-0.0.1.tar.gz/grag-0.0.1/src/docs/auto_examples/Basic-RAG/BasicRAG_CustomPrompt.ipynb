{
  "cells": [
    {
      "cell_type": "markdown",
      "metadata": {},
      "source": [
        "# Custom Prompts\nThis cookbook demonstrates how to use custom prompts with Basic RAG.\n\n\n`Note that this cookbook assumes that you already have the` ``Llama-2-13b-chat`` `LLM ready,`\n`for more details on how to quantize and run an LLM locally,`\n`refer to the LLM section under Getting Started.`\n\n`Note that this cookbook also assumes that you have already ingested documents into a DeepLake collection called 'grag'`\n`for more details on how to ingest documents refer to the cookbook called` ``Document Ingestion``.\n"
      ]
    },
    {
      "cell_type": "code",
      "execution_count": null,
      "metadata": {
        "collapsed": false
      },
      "outputs": [],
      "source": [
        "from grag.components.multivec_retriever import Retriever\nfrom grag.components.prompt import Prompt\nfrom grag.components.vectordb.deeplake_client import DeepLakeClient\nfrom grag.rag.basic_rag import BasicRAG\n\ncustom_prompt = Prompt(\n    input_keys={\"context\", \"question\"},\n    template=\"\"\"Answer the following question based on the given context.\n    question: {question}\n    context: {context}\n    answer: \n    \"\"\",\n)\n\nclient = DeepLakeClient(collection_name=\"grag\")\nretriever = Retriever(vectordb=client)\nrag = BasicRAG(\n    model_name=\"Llama-2-13b-chat\", custom_prompt=custom_prompt, retriever=retriever\n)\n\nif __name__ == \"__main__\":\n    while True:\n        query = input(\"Query:\")\n        rag(query)"
      ]
    }
  ],
  "metadata": {
    "kernelspec": {
      "display_name": "Python 3",
      "language": "python",
      "name": "python3"
    },
    "language_info": {
      "codemirror_mode": {
        "name": "ipython",
        "version": 3
      },
      "file_extension": ".py",
      "mimetype": "text/x-python",
      "name": "python",
      "nbconvert_exporter": "python",
      "pygments_lexer": "ipython3",
      "version": "3.11.7"
    }
  },
  "nbformat": 4,
  "nbformat_minor": 0
}