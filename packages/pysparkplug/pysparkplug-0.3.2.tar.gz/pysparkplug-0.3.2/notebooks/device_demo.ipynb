{
 "cells": [
  {
   "cell_type": "code",
   "execution_count": 1,
   "id": "808f4138-328a-4bac-839f-bec4becf1edd",
   "metadata": {
    "tags": []
   },
   "outputs": [],
   "source": [
    "import time\n",
    "import datetime\n",
    "\n",
    "import pysparkplug as psp\n",
    "\n",
    "host = \"emqx\"\n",
    "group_id = \"my_group\"\n",
    "edge_node_id = \"my_edge_node\"\n",
    "device_id = \"my_device\"\n",
    "metrics = (\n",
    "    psp.Metric(timestamp=psp.get_current_timestamp(), name=\"uint8\", datatype=psp.DataType.UINT8, value=1),\n",
    "    psp.Metric(timestamp=psp.get_current_timestamp(), name=\"uint16\", datatype=psp.DataType.UINT16, value=2),\n",
    "    psp.Metric(timestamp=psp.get_current_timestamp(), name=\"uint32\", datatype=psp.DataType.UINT32, value=3),\n",
    "    psp.Metric(timestamp=psp.get_current_timestamp(), name=\"uint64\", datatype=psp.DataType.UINT64, value=4),\n",
    "    psp.Metric(timestamp=psp.get_current_timestamp(), name=\"int8\", datatype=psp.DataType.INT8, value=-1),\n",
    "    psp.Metric(timestamp=psp.get_current_timestamp(), name=\"int16\", datatype=psp.DataType.INT16, value=-2),\n",
    "    psp.Metric(timestamp=psp.get_current_timestamp(), name=\"int32\", datatype=psp.DataType.INT32, value=-3),\n",
    "    psp.Metric(timestamp=psp.get_current_timestamp(), name=\"int64\", datatype=psp.DataType.INT64, value=-4),\n",
    "    psp.Metric(timestamp=psp.get_current_timestamp(), name=\"float\", datatype=psp.DataType.FLOAT, value=1.1),\n",
    "    psp.Metric(timestamp=psp.get_current_timestamp(), name=\"double\", datatype=psp.DataType.DOUBLE, value=2.2),\n",
    "    psp.Metric(timestamp=psp.get_current_timestamp(), name=\"boolean\", datatype=psp.DataType.BOOLEAN, value=True),\n",
    "    psp.Metric(timestamp=psp.get_current_timestamp(), name=\"string\", datatype=psp.DataType.STRING, value=\"hello world\"),\n",
    "    psp.Metric(timestamp=psp.get_current_timestamp(), name=\"datetime\", datatype=psp.DataType.DATETIME, value=datetime.datetime(1990, 9, 3, 5, 4, 3)),\n",
    "    psp.Metric(timestamp=psp.get_current_timestamp(), name=\"text\", datatype=psp.DataType.TEXT, value=\"iamatext\"),\n",
    "    psp.Metric(timestamp=psp.get_current_timestamp(), name=\"uuid\", datatype=psp.DataType.UUID, value=\"iamauuid\"),\n",
    "    psp.Metric(timestamp=psp.get_current_timestamp(), name=\"bytes\", datatype=psp.DataType.BYTES, value=b\"iamabytes\"),\n",
    "    psp.Metric(timestamp=psp.get_current_timestamp(), name=\"file\", datatype=psp.DataType.FILE, value=b\"iamafile\"),\n",
    "    psp.Metric(timestamp=psp.get_current_timestamp(), name=\"null_uint8\", datatype=psp.DataType.UINT8),\n",
    "    psp.Metric(timestamp=psp.get_current_timestamp(), name=\"historical_uint8\", datatype=psp.DataType.UINT8, value=1, is_historical=True),\n",
    "    psp.Metric(timestamp=psp.get_current_timestamp(), name=\"transient_uint8\", datatype=psp.DataType.UINT8, value=1, is_transient=True),\n",
    ")\n",
    "\n",
    "edge_node = psp.EdgeNode(group_id, edge_node_id, metrics)\n",
    "device = psp.Device(device_id, metrics)\n",
    "edge_node.register(device)\n",
    "\n",
    "edge_node.connect(host)\n",
    "time.sleep(1)\n",
    "edge_node.update(metrics)\n",
    "edge_node.update_device(device_id, metrics)\n",
    "edge_node.deregister(device_id)"
   ]
  },
  {
   "cell_type": "code",
   "execution_count": 2,
   "id": "af1372c1-0fb2-4f39-a8b2-b01f6d27ea5f",
   "metadata": {
    "tags": []
   },
   "outputs": [],
   "source": [
    "edge_node.disconnect()"
   ]
  }
 ],
 "metadata": {
  "kernelspec": {
   "display_name": "Python 3 (ipykernel)",
   "language": "python",
   "name": "python3"
  },
  "language_info": {
   "codemirror_mode": {
    "name": "ipython",
    "version": 3
   },
   "file_extension": ".py",
   "mimetype": "text/x-python",
   "name": "python",
   "nbconvert_exporter": "python",
   "pygments_lexer": "ipython3",
   "version": "3.10.11"
  }
 },
 "nbformat": 4,
 "nbformat_minor": 5
}
