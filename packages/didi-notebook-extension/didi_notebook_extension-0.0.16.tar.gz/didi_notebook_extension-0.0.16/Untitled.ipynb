{
 "cells": [
  {
   "cell_type": "code",
   "execution_count": null,
   "id": "60703142-f568-472c-ac3e-74aade990543",
   "metadata": {},
   "outputs": [],
   "source": [
    "import * from \"t"
   ]
  },
  {
   "cell_type": "code",
   "execution_count": null,
   "id": "6b7f43e0-9175-406e-815b-0a6393f17a41",
   "metadata": {},
   "outputs": [],
   "source": [
    "sdfasdf\n",
    "\n"
   ]
  }
 ],
 "metadata": {
  "kernelspec": {
   "display_name": "Python 3 (ipykernel)",
   "language": "python",
   "name": "python3"
  },
  "language_info": {
   "codemirror_mode": {
    "name": "ipython",
    "version": 3
   },
   "file_extension": ".py",
   "mimetype": "text/x-python",
   "name": "python",
   "nbconvert_exporter": "python",
   "pygments_lexer": "ipython3",
   "version": "3.8.5"
  }
 },
 "nbformat": 4,
 "nbformat_minor": 5
}
