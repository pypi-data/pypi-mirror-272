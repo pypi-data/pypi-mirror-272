{
 "cells": [
  {
   "cell_type": "markdown",
   "metadata": {
    "pycharm": {
     "name": "#%% md\n"
    }
   },
   "source": [
    "# SNEWS Firedrill Notebook\n",
    "\n",
    "Last Updated: 25/04/2023\n",
    "\n",
    "\n",
    "## Installing Stuff\n",
    "\n",
    "- [**SNEWS_PT Repo**](https://github.com/SNEWS2/SNEWS_Publishing_Tools) <br>\n",
    "- [**hop repo**](https://github.com/scimma/hop-client) <br>\n",
    "- [**hop auth**](https://my.hop.scimma.org/hopauth/)\n",
    "\n",
    "\n",
    "Start by making sure your hop credentials are updated for firedrills:\n",
    "\n",
    "snews.alert-firedrill\n",
    "snews.experiments-firedrill\n",
    "snews.mma-firedrill\n",
    "\n",
    "- Make sure you are using the latest `snews_pt` version (as of April 2023, 1.3.2, with hop 0.8.0)\n",
    "\n",
    "```pip install -U snews-pt``` <br>\n",
    "You can check your snews_pt (hop) version with `snews_pt --version` (`hop --version`)"
   ]
  },
  {
   "cell_type": "markdown",
   "metadata": {},
   "source": [
    "# What is in this firedrill tutorial"
   ]
  },
  {
   "cell_type": "markdown",
   "metadata": {},
   "source": [
    "This notebook has the following;<br>\n",
    "- Subscribe methods for alerts, interactive notebooks and command line\n",
    "- Publish observation messages, interactive notebooks and command line, different features\n",
    "- Publish Heartbeat messages\n",
    "- Test connection and Request feedback\n",
    "- FIRE DRILL\n"
   ]
  },
  {
   "cell_type": "markdown",
   "metadata": {
    "pycharm": {
     "name": "#%% md\n"
    }
   },
   "source": [
    "## Using the API"
   ]
  },
  {
   "cell_type": "code",
   "execution_count": 1,
   "metadata": {},
   "outputs": [],
   "source": [
    "from snews_pt.snews_pt_utils import set_name                       # to set experiment name\n",
    "from snews_pt.messages import SNEWSMessageBuilder\n",
    "from snews_pt.snews_sub import Subscriber                          # to listen alerts\n",
    "from snews_pt.remote_commands import test_connection, get_feedback # to test connection and get feedback\n",
    "from datetime import  datetime\n",
    "from time import sleep"
   ]
  },
  {
   "cell_type": "markdown",
   "metadata": {},
   "source": [
    "The experiment can set their detector name. Once this is set, the software no longer raises warnings. "
   ]
  },
  {
   "cell_type": "code",
   "execution_count": 2,
   "metadata": {},
   "outputs": [
    {
     "name": "stdout",
     "output_type": "stream",
     "text": [
      "You are XENONnT\u001b[0m\n"
     ]
    }
   ],
   "source": [
    "set_name()"
   ]
  },
  {
   "cell_type": "markdown",
   "metadata": {},
   "source": [
    "You can subscribe for the alerts in a jupyter notebook, however, since this opens a stream and continuosly listen, you can not use the other cells without killing it. Therefore, we recommend to subscribe using a bash terminal via the following command\n",
    "```bash\n",
    "user:~$ snews_pt subscribe\n",
    "```"
   ]
  },
  {
   "cell_type": "code",
   "execution_count": 3,
   "metadata": {},
   "outputs": [
    {
     "name": "stdout",
     "output_type": "stream",
     "text": [
      "You are subscribing to \u001b[41m\u001b[1mALERT\u001b[0m\n",
      "Broker:\u001b[42mkafka://kafka.scimma.org/snews.alert-firedrill\u001b[0m\n",
      "\u001b[32mDone\u001b[0m\n"
     ]
    },
    {
     "name": "stderr",
     "output_type": "stream",
     "text": [
      "%3|1696422764.498|FAIL|rdkafka#consumer-1| [thrd:sasl_ssl://kb-2.prod.hop.scimma.org:9092/2]: sasl_ssl://kb-2.prod.hop.scimma.org:9092/2: SASL authentication error: SaslAuthenticateRequest failed: Local: Broker handle destroyed (after 5ms in state DOWN)\n"
     ]
    }
   ],
   "source": [
    "# this runs persistently\n",
    "Subscriber(firedrill_mode=True).subscribe(outputfolder='./')"
   ]
  },
  {
   "cell_type": "markdown",
   "metadata": {},
   "source": [
    "## Create and Publish Observation messages"
   ]
  },
  {
   "cell_type": "code",
   "execution_count": 3,
   "metadata": {},
   "outputs": [],
   "source": [
    "# observation_time = \"2023-06-14T12:45:45.100000\"\n",
    "observation_time = \"2023-06-14T12:45:45.100000\"\n",
    "msg = SNEWSMessageBuilder(neutrino_time=observation_time, is_test=True, firedrill_mode=True)"
   ]
  },
  {
   "cell_type": "code",
   "execution_count": 4,
   "metadata": {},
   "outputs": [
    {
     "name": "stdout",
     "output_type": "stream",
     "text": [
      "\u001b[94m----------------------------------------------------------------\u001b[0m\n",
      "\u001b[91mSending message to CoincidenceTier on kafka://kafka.scimma.org/snews.experiments-firedrill\u001b[0m\n",
      "_id                :XENONnT_CoincidenceTier_2024-01-16T15:48:45.218885000\n",
      "schema_version     :1.3.1\n",
      "detector_name      :XENONnT\n",
      "machine_time       :None\n",
      "neutrino_time      :2023-06-14T12:45:45.100000000\n",
      "p_val              :None\n",
      "is_test            :True\n",
      "meta               :\n",
      "\tfiredrill_mode     :True\n",
      "sent_time          :2024-01-16T15:48:51.256034000\n"
     ]
    }
   ],
   "source": [
    "msg.send_messages()"
   ]
  },
  {
   "cell_type": "markdown",
   "metadata": {},
   "source": [
    "What if there is an error in your message?"
   ]
  },
  {
   "cell_type": "code",
   "execution_count": 5,
   "metadata": {},
   "outputs": [
    {
     "ename": "ValueError",
     "evalue": "Day out of range in datetime string \"2023-06-9999999:45:100000\"",
     "output_type": "error",
     "traceback": [
      "\u001b[0;31m---------------------------------------------------------------------------\u001b[0m",
      "\u001b[0;31mValueError\u001b[0m                                Traceback (most recent call last)",
      "Cell \u001b[0;32mIn[5], line 2\u001b[0m\n\u001b[1;32m      1\u001b[0m observation_time2 \u001b[38;5;241m=\u001b[39m \u001b[38;5;124m\"\u001b[39m\u001b[38;5;124m2023-06-9999999:45:100000\u001b[39m\u001b[38;5;124m\"\u001b[39m\n\u001b[0;32m----> 2\u001b[0m msg2 \u001b[38;5;241m=\u001b[39m \u001b[43mSNEWSMessageBuilder\u001b[49m\u001b[43m(\u001b[49m\u001b[43mneutrino_time\u001b[49m\u001b[38;5;241;43m=\u001b[39;49m\u001b[43mobservation_time2\u001b[49m\u001b[43m,\u001b[49m\u001b[43m \u001b[49m\u001b[43mis_test\u001b[49m\u001b[38;5;241;43m=\u001b[39;49m\u001b[38;5;28;43;01mTrue\u001b[39;49;00m\u001b[43m,\u001b[49m\u001b[43m \u001b[49m\u001b[43mfiredrill_mode\u001b[49m\u001b[38;5;241;43m=\u001b[39;49m\u001b[38;5;28;43;01mTrue\u001b[39;49;00m\u001b[43m)\u001b[49m\n",
      "File \u001b[0;32m/mnt/c/Users/bj7780/Desktop/Kara/GitHub/SNEWS/SNEWS_Publishing_Tools/snews_pt/messages.py:410\u001b[0m, in \u001b[0;36mSNEWSMessageBuilder.__init__\u001b[0;34m(self, env_file, detector_name, machine_time, neutrino_time, p_val, p_values, t_bin_width, timing_series, retract_latest, retraction_reason, detector_status, is_test, **kwargs)\u001b[0m\n\u001b[1;32m    407\u001b[0m \u001b[38;5;28mself\u001b[39m\u001b[38;5;241m.\u001b[39mmessages \u001b[38;5;241m=\u001b[39m \u001b[38;5;28;01mNone\u001b[39;00m\n\u001b[1;32m    408\u001b[0m \u001b[38;5;28mself\u001b[39m\u001b[38;5;241m.\u001b[39mselected_tiers \u001b[38;5;241m=\u001b[39m []\n\u001b[0;32m--> 410\u001b[0m \u001b[38;5;28;43mself\u001b[39;49m\u001b[38;5;241;43m.\u001b[39;49m\u001b[43m_build_messages\u001b[49m\u001b[43m(\u001b[49m\u001b[43menv_file\u001b[49m\u001b[38;5;241;43m=\u001b[39;49m\u001b[43menv_file\u001b[49m\u001b[43m,\u001b[49m\n\u001b[1;32m    411\u001b[0m \u001b[43m                     \u001b[49m\u001b[43mdetector_name\u001b[49m\u001b[38;5;241;43m=\u001b[39;49m\u001b[43mdetector_name\u001b[49m\u001b[43m,\u001b[49m\n\u001b[1;32m    412\u001b[0m \u001b[43m                     \u001b[49m\u001b[43mmachine_time\u001b[49m\u001b[38;5;241;43m=\u001b[39;49m\u001b[43mmachine_time\u001b[49m\u001b[43m,\u001b[49m\n\u001b[1;32m    413\u001b[0m \u001b[43m                     \u001b[49m\u001b[43mneutrino_time\u001b[49m\u001b[38;5;241;43m=\u001b[39;49m\u001b[43mneutrino_time\u001b[49m\u001b[43m,\u001b[49m\n\u001b[1;32m    414\u001b[0m \u001b[43m                     \u001b[49m\u001b[43mp_val\u001b[49m\u001b[38;5;241;43m=\u001b[39;49m\u001b[43mp_val\u001b[49m\u001b[43m,\u001b[49m\n\u001b[1;32m    415\u001b[0m \u001b[43m                     \u001b[49m\u001b[43mp_values\u001b[49m\u001b[38;5;241;43m=\u001b[39;49m\u001b[43mp_values\u001b[49m\u001b[43m,\u001b[49m\n\u001b[1;32m    416\u001b[0m \u001b[43m                     \u001b[49m\u001b[43mt_bin_width\u001b[49m\u001b[38;5;241;43m=\u001b[39;49m\u001b[43mt_bin_width\u001b[49m\u001b[43m,\u001b[49m\n\u001b[1;32m    417\u001b[0m \u001b[43m                     \u001b[49m\u001b[43mtiming_series\u001b[49m\u001b[38;5;241;43m=\u001b[39;49m\u001b[43mtiming_series\u001b[49m\u001b[43m,\u001b[49m\n\u001b[1;32m    418\u001b[0m \u001b[43m                     \u001b[49m\u001b[43mretract_latest\u001b[49m\u001b[38;5;241;43m=\u001b[39;49m\u001b[43mretract_latest\u001b[49m\u001b[43m,\u001b[49m\n\u001b[1;32m    419\u001b[0m \u001b[43m                     \u001b[49m\u001b[43mretraction_reason\u001b[49m\u001b[38;5;241;43m=\u001b[39;49m\u001b[43mretraction_reason\u001b[49m\u001b[43m,\u001b[49m\n\u001b[1;32m    420\u001b[0m \u001b[43m                     \u001b[49m\u001b[43mdetector_status\u001b[49m\u001b[38;5;241;43m=\u001b[39;49m\u001b[43mdetector_status\u001b[49m\u001b[43m,\u001b[49m\n\u001b[1;32m    421\u001b[0m \u001b[43m                     \u001b[49m\u001b[43mis_test\u001b[49m\u001b[38;5;241;43m=\u001b[39;49m\u001b[43mis_test\u001b[49m\u001b[43m,\u001b[49m\n\u001b[1;32m    422\u001b[0m \u001b[43m                     \u001b[49m\u001b[38;5;241;43m*\u001b[39;49m\u001b[38;5;241;43m*\u001b[39;49m\u001b[43mkwargs\u001b[49m\u001b[43m)\u001b[49m\n",
      "File \u001b[0;32m/mnt/c/Users/bj7780/Desktop/Kara/GitHub/SNEWS/SNEWS_Publishing_Tools/snews_pt/messages.py:472\u001b[0m, in \u001b[0;36mSNEWSMessageBuilder._build_messages\u001b[0;34m(self, **kwargs)\u001b[0m\n\u001b[1;32m    469\u001b[0m \u001b[38;5;28;01mif\u001b[39;00m hasreqfields:\n\u001b[1;32m    470\u001b[0m     \u001b[38;5;28;01mif\u001b[39;00m \u001b[38;5;28mself\u001b[39m\u001b[38;5;241m.\u001b[39mmessages \u001b[38;5;129;01mis\u001b[39;00m \u001b[38;5;28;01mNone\u001b[39;00m:\n\u001b[1;32m    471\u001b[0m         \u001b[38;5;66;03m# check is valid at creation\u001b[39;00m\n\u001b[0;32m--> 472\u001b[0m         \u001b[43msmc\u001b[49m\u001b[43m(\u001b[49m\u001b[38;5;241;43m*\u001b[39;49m\u001b[38;5;241;43m*\u001b[39;49m\u001b[43mnonull_kwargs\u001b[49m\u001b[43m)\u001b[49m\u001b[38;5;241m.\u001b[39mis_valid()\n\u001b[1;32m    473\u001b[0m         \u001b[38;5;28mself\u001b[39m\u001b[38;5;241m.\u001b[39mmessages \u001b[38;5;241m=\u001b[39m [smc(\u001b[38;5;241m*\u001b[39m\u001b[38;5;241m*\u001b[39mnonull_kwargs)]\n\u001b[1;32m    474\u001b[0m     \u001b[38;5;28;01melse\u001b[39;00m:\n",
      "File \u001b[0;32m/mnt/c/Users/bj7780/Desktop/Kara/GitHub/SNEWS/SNEWS_Publishing_Tools/snews_pt/messages.py:255\u001b[0m, in \u001b[0;36mSNEWSCoincidenceTierMessage.__init__\u001b[0;34m(self, neutrino_time, p_val, **kwargs)\u001b[0m\n\u001b[1;32m    253\u001b[0m \u001b[38;5;28;01mdef\u001b[39;00m \u001b[38;5;21m__init__\u001b[39m(\u001b[38;5;28mself\u001b[39m, neutrino_time\u001b[38;5;241m=\u001b[39m\u001b[38;5;28;01mNone\u001b[39;00m, p_val\u001b[38;5;241m=\u001b[39m\u001b[38;5;28;01mNone\u001b[39;00m, \u001b[38;5;241m*\u001b[39m\u001b[38;5;241m*\u001b[39mkwargs):\n\u001b[1;32m    254\u001b[0m     \u001b[38;5;28msuper\u001b[39m()\u001b[38;5;241m.\u001b[39m\u001b[38;5;21m__init__\u001b[39m(\u001b[38;5;28mself\u001b[39m\u001b[38;5;241m.\u001b[39mfields,\n\u001b[0;32m--> 255\u001b[0m                      neutrino_time\u001b[38;5;241m=\u001b[39m\u001b[43mclean_time_input\u001b[49m\u001b[43m(\u001b[49m\u001b[43mneutrino_time\u001b[49m\u001b[43m)\u001b[49m,\n\u001b[1;32m    256\u001b[0m                      p_val\u001b[38;5;241m=\u001b[39mp_val,\n\u001b[1;32m    257\u001b[0m                      \u001b[38;5;241m*\u001b[39m\u001b[38;5;241m*\u001b[39mkwargs)\n",
      "File \u001b[0;32m/mnt/c/Users/bj7780/Desktop/Kara/GitHub/SNEWS/SNEWS_Publishing_Tools/snews_pt/messages.py:106\u001b[0m, in \u001b[0;36mclean_time_input\u001b[0;34m(input_datetime)\u001b[0m\n\u001b[1;32m    102\u001b[0m     \u001b[38;5;28;01mreturn\u001b[39;00m np\u001b[38;5;241m.\u001b[39mdatetime_as_string(np\u001b[38;5;241m.\u001b[39mdatetime64(datetime\u001b[38;5;241m.\u001b[39mutcnow()\u001b[38;5;241m.\u001b[39misoformat()), unit\u001b[38;5;241m=\u001b[39m\u001b[38;5;124m'\u001b[39m\u001b[38;5;124mns\u001b[39m\u001b[38;5;124m'\u001b[39m)\n\u001b[1;32m    104\u001b[0m \u001b[38;5;28;01mif\u001b[39;00m \u001b[38;5;28misinstance\u001b[39m(input_datetime, (\u001b[38;5;28mstr\u001b[39m, np\u001b[38;5;241m.\u001b[39mdatetime64, pd\u001b[38;5;241m.\u001b[39mTimestamp, datetime)):\n\u001b[1;32m    105\u001b[0m     \u001b[38;5;66;03m# If the input is already a string or NumPy datetime64, return it as is\u001b[39;00m\n\u001b[0;32m--> 106\u001b[0m     dt \u001b[38;5;241m=\u001b[39m \u001b[43mnp\u001b[49m\u001b[38;5;241;43m.\u001b[39;49m\u001b[43mdatetime64\u001b[49m\u001b[43m(\u001b[49m\u001b[43minput_datetime\u001b[49m\u001b[43m)\u001b[49m\n\u001b[1;32m    107\u001b[0m     \u001b[38;5;28;01mreturn\u001b[39;00m np\u001b[38;5;241m.\u001b[39mdatetime_as_string(dt, unit\u001b[38;5;241m=\u001b[39m\u001b[38;5;124m'\u001b[39m\u001b[38;5;124mns\u001b[39m\u001b[38;5;124m'\u001b[39m)\n\u001b[1;32m    108\u001b[0m \u001b[38;5;28;01melse\u001b[39;00m:\n",
      "\u001b[0;31mValueError\u001b[0m: Day out of range in datetime string \"2023-06-9999999:45:100000\""
     ]
    }
   ],
   "source": [
    "observation_time2 = \"2023-06-9999999:45:100000\"\n",
    "msg2 = SNEWSMessageBuilder(neutrino_time=observation_time2, is_test=True, firedrill_mode=True)"
   ]
  },
  {
   "cell_type": "markdown",
   "metadata": {},
   "source": [
    "#### SNEWSMessageBuilder\n",
    "The `SNEWSMessageBuilder` builds and validates messages for you from your given keys.\n",
    "\n",
    "The `neutrino_time` is the most important argument. The Builder decides that this message is intended for the `CoincidenceTier` based on this input. <br>\n",
    "\n",
    "Try calling the function with no argument -> `SNEWSMessageBuilder()` <br>\n",
    "This returns `\"SNEWSMessageBuilder: No messages have been built\"` <br>\n",
    "\n",
    "Another example would be the heartbeat messages <br>\n",
    "If you call it with a detector status i.e. `SNEWSMessageBuilder(detector_status='ON')` this should create a message for the heartbeats. What happens if you pass both neutrino times and detector status? Try it out!\n",
    "\n",
    "----\n",
    "\n",
    "Few more tips;<br>\n",
    "if you pass `neutrino_time` the Publisher labels it as **\"Coincidence Tier\"** <br>\n",
    "if you pass `p_values` and `t_bin_width` it is labeled as **\"Significance Tier Message\"** <br>\n",
    "if you pass `timing_series` it is labeled as **\"Time Tier\"**<br>\n",
    "if you pass `retract_latest` (e.g. retract_latest=1 retracts the last 1 message) it labels as **\"Retraction Message\"**<br>\n",
    "if you pass `detector_status` it labels as **\"Heartbeat Message\"** (Notice HB doesn't require time as it stamps itself)\n",
    "\n",
    "---\n",
    "\n",
    "The `is_test` argument is needed so that coincidence algorithm knows we are testing and ignores even if the times that are passed illogical (e.g. from past or from far future). If this is not passed, Publisher will tell you that this message is not valid."
   ]
  },
  {
   "cell_type": "code",
   "execution_count": 5,
   "metadata": {},
   "outputs": [],
   "source": [
    "## Here try and play with different arguments\n",
    "# SNEWSMessageBuilder()"
   ]
  },
  {
   "cell_type": "markdown",
   "metadata": {},
   "source": [
    "Notice that you only **create** the message and not send it anywhere yet! <br>\n",
    "Once created, you can still display and modify the messages. See the example below."
   ]
  },
  {
   "cell_type": "code",
   "execution_count": 6,
   "metadata": {},
   "outputs": [
    {
     "data": {
      "text/plain": [
       "['SNEWSCoincidenceTierMessage', 'SNEWSHeartbeatMessage']"
      ]
     },
     "execution_count": 6,
     "metadata": {},
     "output_type": "execute_result"
    }
   ],
   "source": [
    "msg = SNEWSMessageBuilder(neutrino_time=observation_time, is_test=True, firedrill_mode=True, detector_status='ON')\n",
    "msg.selected_tiers"
   ]
  },
  {
   "cell_type": "code",
   "execution_count": 7,
   "metadata": {},
   "outputs": [
    {
     "name": "stdout",
     "output_type": "stream",
     "text": [
      "['SNEWSCoincidenceTierMessage', 'SNEWSHeartbeatMessage']\n"
     ]
    },
    {
     "data": {
      "text/plain": [
       "[\u001b[1mSNEWSCoincidenceTierMessage\n",
       " \u001b[0m---------------------------\n",
       " \u001b[91m            _id : XENONnT_CoincidenceTier_2024-01-16T15:49:22.614820000\n",
       " \u001b[0m\u001b[91m schema_version : 1.3.1\n",
       " \u001b[0m\u001b[91m  detector_name : XENONnT\n",
       " \u001b[0m\u001b[30m   machine_time : None\n",
       " \u001b[0m\u001b[94m\u001b[1m  neutrino_time : 2023-06-14T12:45:45.100000000\n",
       " \u001b[0m\u001b[30m          p_val : None\n",
       " \u001b[0m\u001b[30m        is_test : True\n",
       " \u001b[0m\u001b[96mdetector_status : ON\n",
       " \u001b[0m\u001b[96m firedrill_mode : True\n",
       " \u001b[0m,\n",
       " \u001b[1mSNEWSHeartbeatMessage\n",
       " \u001b[0m---------------------\n",
       " \u001b[91m            _id : XENONnT_Heartbeat_2024-01-16T15:49:22.614849000\n",
       " \u001b[0m\u001b[91m schema_version : 1.3.1\n",
       " \u001b[0m\u001b[91m  detector_name : XENONnT\n",
       " \u001b[0m\u001b[30m   machine_time : None\n",
       " \u001b[0m\u001b[94m\u001b[1mdetector_status : ON\n",
       " \u001b[0m\u001b[30m        is_test : True\n",
       " \u001b[0m\u001b[96m  neutrino_time : 2023-06-14T12:45:45.100000\n",
       " \u001b[0m\u001b[96m firedrill_mode : True\n",
       " \u001b[0m]"
      ]
     },
     "execution_count": 7,
     "metadata": {},
     "output_type": "execute_result"
    }
   ],
   "source": [
    "# see the selected tiers\n",
    "print(msg.selected_tiers)\n",
    "# see the message data\n",
    "msg.messages"
   ]
  },
  {
   "cell_type": "code",
   "execution_count": 8,
   "metadata": {},
   "outputs": [
    {
     "data": {
      "text/plain": [
       "\u001b[1mSNEWSCoincidenceTierMessage\n",
       "\u001b[0m---------------------------\n",
       "\u001b[91m            _id : XENONnT_CoincidenceTier_2024-01-16T15:49:22.614820000\n",
       "\u001b[0m\u001b[91m schema_version : 1.3.1\n",
       "\u001b[0m\u001b[91m  detector_name : XENONnT\n",
       "\u001b[0m\u001b[30m   machine_time : None\n",
       "\u001b[0m\u001b[94m\u001b[1m  neutrino_time : 2023-06-14T12:45:45.100000000\n",
       "\u001b[0m\u001b[30m          p_val : None\n",
       "\u001b[0m\u001b[30m        is_test : True\n",
       "\u001b[0m\u001b[96mdetector_status : ON\n",
       "\u001b[0m\u001b[96m firedrill_mode : True\n",
       "\u001b[0m"
      ]
     },
     "execution_count": 8,
     "metadata": {},
     "output_type": "execute_result"
    }
   ],
   "source": [
    "# the first message that is created\n",
    "msg.messages[0]"
   ]
  },
  {
   "cell_type": "code",
   "execution_count": 9,
   "metadata": {},
   "outputs": [
    {
     "data": {
      "text/plain": [
       "\u001b[1mSNEWSHeartbeatMessage\n",
       "\u001b[0m---------------------\n",
       "\u001b[91m            _id : XENONnT_Heartbeat_2024-01-16T15:49:22.614849000\n",
       "\u001b[0m\u001b[91m schema_version : 1.3.1\n",
       "\u001b[0m\u001b[91m  detector_name : XENONnT\n",
       "\u001b[0m\u001b[30m   machine_time : None\n",
       "\u001b[0m\u001b[94m\u001b[1mdetector_status : ON\n",
       "\u001b[0m\u001b[30m        is_test : True\n",
       "\u001b[0m\u001b[96m  neutrino_time : 2023-06-14T12:45:45.100000\n",
       "\u001b[0m\u001b[96m firedrill_mode : True\n",
       "\u001b[0m"
      ]
     },
     "execution_count": 9,
     "metadata": {},
     "output_type": "execute_result"
    }
   ],
   "source": [
    "# the second message that is created\n",
    "msg.messages[1]"
   ]
  },
  {
   "cell_type": "markdown",
   "metadata": {},
   "source": [
    "One can see that there are some more information added automatically. Now let's **send these messages to snews**"
   ]
  },
  {
   "cell_type": "markdown",
   "metadata": {},
   "source": [
    "Before sending the message, let's test to see if we have a connection to the server."
   ]
  },
  {
   "cell_type": "code",
   "execution_count": 3,
   "metadata": {},
   "outputs": [
    {
     "name": "stdout",
     "output_type": "stream",
     "text": [
      "\n",
      "> Testing your connection.\n",
      "> Sending to kafka://kafka.scimma.org/snews.experiments-firedrill\n",
      "> Expecting from kafka://kafka.scimma.org/snews.connection-testing. \n",
      "> Going to wait 8 seconds before checking for confirmation...\n",
      "\u001b[0m\n",
      "You (\u001b[32m\u001b[1mLZ\u001b[0m) have a connection to the server at \u001b[32m\u001b[1m2023-12-11T16:00:37.525016\u001b[0m\n"
     ]
    },
    {
     "data": {
      "text/plain": [
       "True"
      ]
     },
     "execution_count": 3,
     "metadata": {},
     "output_type": "execute_result"
    }
   ],
   "source": [
    "test_connection(firedrill=True)"
   ]
  },
  {
   "cell_type": "markdown",
   "metadata": {},
   "source": [
    "There was no connection! This is because at the moment, server runs the coincidence logic on the non-firedrill broker, and we were trying to test our connection to the firedrill! <br>\n",
    "```bash\n",
    "> Sending to kafka://kafka.scimma.org/snews.experiments-firedrill\n",
    "```\n",
    "Let's check to see if we have a connection to the other broker."
   ]
  },
  {
   "cell_type": "code",
   "execution_count": 10,
   "metadata": {
    "scrolled": true
   },
   "outputs": [
    {
     "name": "stdout",
     "output_type": "stream",
     "text": [
      "\n",
      "> Testing your connection.\n",
      "> Sending to kafka://kafka.scimma.org/snews.experiments-test\n",
      "> Expecting from kafka://kafka.scimma.org/snews.connection-testing. \n",
      "> Going to wait 8 seconds before checking for confirmation...\n",
      "\u001b[0m\n",
      "You (\u001b[32m\u001b[1mXENONnT\u001b[0m) have a connection to the server at \u001b[32m\u001b[1m2024-01-16T15:49:38.855555\u001b[0m\n"
     ]
    },
    {
     "data": {
      "text/plain": [
       "True"
      ]
     },
     "execution_count": 10,
     "metadata": {},
     "output_type": "execute_result"
    }
   ],
   "source": [
    "test_connection(firedrill=False, patience=8)"
   ]
  },
  {
   "cell_type": "code",
   "execution_count": 11,
   "metadata": {},
   "outputs": [
    {
     "name": "stdout",
     "output_type": "stream",
     "text": [
      "\u001b[94m----------------------------------------------------------------\u001b[0m\n",
      "\u001b[91mSending message to CoincidenceTier on kafka://kafka.scimma.org/snews.experiments-test\u001b[0m\n",
      "_id                :XENONnT_CoincidenceTier_2024-01-16T15:49:22.614820000\n",
      "schema_version     :1.3.1\n",
      "detector_name      :XENONnT\n",
      "machine_time       :None\n",
      "neutrino_time      :2023-06-14T12:45:45.100000000\n",
      "p_val              :None\n",
      "is_test            :True\n",
      "meta               :\n",
      "\tfiredrill_mode     :True\n",
      "sent_time          :2024-01-16T15:49:56.634355000\n",
      "\u001b[94m----------------------------------------------------------------\u001b[0m\n",
      "\u001b[91mSending message to Heartbeat on kafka://kafka.scimma.org/snews.experiments-test\u001b[0m\n",
      "_id                :XENONnT_Heartbeat_2024-01-16T15:49:22.614849000\n",
      "schema_version     :1.3.1\n",
      "detector_name      :XENONnT\n",
      "machine_time       :None\n",
      "detector_status    :ON\n",
      "is_test            :True\n",
      "meta               :\n",
      "\tfiredrill_mode     :True\n",
      "sent_time          :2024-01-16T15:49:56.637696000\n"
     ]
    }
   ],
   "source": [
    "msg.send_messages(firedrill_mode=False)"
   ]
  },
  {
   "cell_type": "markdown",
   "metadata": {},
   "source": [
    "**Another trick** <br>\n",
    "If you think that you have some other information that you think is relevant, you can still pass any other meta data by passing them as key-word arguments."
   ]
  },
  {
   "cell_type": "code",
   "execution_count": 12,
   "metadata": {},
   "outputs": [
    {
     "data": {
      "text/plain": [
       "(\u001b[1mSNEWSCoincidenceTierMessage\n",
       " \u001b[0m---------------------------\n",
       " \u001b[91m            _id : XENONnT_CoincidenceTier_2024-01-16T15:50:17.078579000\n",
       " \u001b[0m\u001b[91m schema_version : 1.3.1\n",
       " \u001b[0m\u001b[91m  detector_name : XENONnT\n",
       " \u001b[0m\u001b[30m   machine_time : None\n",
       " \u001b[0m\u001b[94m\u001b[1m  neutrino_time : 2023-06-14T12:45:45.100000000\n",
       " \u001b[0m\u001b[30m          p_val : None\n",
       " \u001b[0m\u001b[30m        is_test : True\n",
       " \u001b[0m\u001b[96m        comment : We were taking calibration data\n",
       " \u001b[0m,\n",
       " {'comment': 'We were taking calibration data'})"
      ]
     },
     "execution_count": 12,
     "metadata": {},
     "output_type": "execute_result"
    }
   ],
   "source": [
    "msg2 = SNEWSMessageBuilder(neutrino_time=observation_time, is_test=True, comment='We were taking calibration data')\n",
    "msg2.messages[0], msg2.messages[0].meta"
   ]
  },
  {
   "cell_type": "markdown",
   "metadata": {},
   "source": [
    "### JSON messages and Observation Publication via CLI"
   ]
  },
  {
   "cell_type": "markdown",
   "metadata": {},
   "source": [
    "Similarly, these observation messages can also be sent with the Command Line Interface (CLI). <br>\n",
    "This requires file(s) that are properly constructed and formatted as a json file then these file(s) can be passed from the terminal <br>\n",
    "\n",
    "For this assume we have the `\"observation_file.json\"` which contains\n",
    "```JSON\n",
    "{\n",
    "    \"machine_time\": \n",
    "        \"2023-02-06T10:18:44.948273\",\n",
    "    \"neutrino_time\": \n",
    "        \"2023-02-06T10:18:44.948273\",\n",
    "    \"p_val\":\n",
    "        0.07,\n",
    "    \"something extra\":\n",
    "        \"Our neutrino time is defined as the first event above bg\"\n",
    "}\n",
    "```\n",
    "\n",
    "```bash \n",
    "user:~$ snews_pt observation_file.json\n",
    "```"
   ]
  },
  {
   "cell_type": "code",
   "execution_count": 14,
   "metadata": {},
   "outputs": [],
   "source": [
    "from snews_pt import messages\n",
    "import importlib\n",
    "importlib.reload(messages)\n",
    "from datetime import  datetime\n",
    "\n",
    "test_time = datetime.utcnow().isoformat()"
   ]
  },
  {
   "cell_type": "code",
   "execution_count": 15,
   "metadata": {},
   "outputs": [],
   "source": [
    "json_message = messages.SNEWSMessageBuilder.from_json(\"./snews_pt/test/example_coincidence_tier_message.json\")\n",
    "# json_message.messages\n",
    "# json_message.send_messages()"
   ]
  },
  {
   "cell_type": "markdown",
   "metadata": {},
   "source": [
    "## Heartbeats"
   ]
  },
  {
   "cell_type": "markdown",
   "metadata": {},
   "source": [
    "SNEWS tracks several time informations with different meanings and purposes; <br>\n",
    "- `neutrino_time` : this is used for searching coincidences and refers to exact time of the first neutrino detection <br>\n",
    "- `machine_time` : this is an optional argument to indicate the time labeled by the machine, ideally for the observation message this would be the same as the neutrino time. Howeever, for the heartbeat messages it should be the time that detector heartbeat was checked. \n",
    "- `sent_time` : this is added by the `SNEWSMessageBuilder().send_messages()` upon execution. We use this information for latency measurements. <br>\n",
    "\n",
    "On the server side, we also label messages by their `received_time` which allows us (for example for the heartbeats) to calculate the latency between the time detector checks their status, the time they actually send it, and the time we receive it at the server.  "
   ]
  },
  {
   "cell_type": "code",
   "execution_count": 16,
   "metadata": {},
   "outputs": [],
   "source": [
    "# simply create a message for the heartbeat\n",
    "msg_hb = SNEWSMessageBuilder(detector_status=\"ON\")"
   ]
  },
  {
   "cell_type": "markdown",
   "metadata": {},
   "source": [
    "Initially, the `sent_time` is set to current time i.e. same as `machine_time` however, when the message is sent, it is overwritten with the exact time at the time of execution."
   ]
  },
  {
   "cell_type": "code",
   "execution_count": 17,
   "metadata": {},
   "outputs": [
    {
     "data": {
      "text/plain": [
       "\u001b[1mSNEWSHeartbeatMessage\n",
       "\u001b[0m---------------------\n",
       "\u001b[91m            _id : XENONnT_Heartbeat_2024-01-16T15:50:33.589841000\n",
       "\u001b[0m\u001b[91m schema_version : 1.3.1\n",
       "\u001b[0m\u001b[91m  detector_name : XENONnT\n",
       "\u001b[0m\u001b[30m   machine_time : None\n",
       "\u001b[0m\u001b[94m\u001b[1mdetector_status : ON\n",
       "\u001b[0m\u001b[30m        is_test : False\n",
       "\u001b[0m"
      ]
     },
     "execution_count": 17,
     "metadata": {},
     "output_type": "execute_result"
    }
   ],
   "source": [
    "msg_hb.messages[0]"
   ]
  },
  {
   "cell_type": "code",
   "execution_count": 18,
   "metadata": {},
   "outputs": [
    {
     "name": "stdout",
     "output_type": "stream",
     "text": [
      "\u001b[94m----------------------------------------------------------------\u001b[0m\n",
      "\u001b[91mSending message to Heartbeat on kafka://kafka.scimma.org/snews.experiments-firedrill\u001b[0m\n",
      "_id                :XENONnT_Heartbeat_2024-01-16T15:50:33.589841000\n",
      "schema_version     :1.3.1\n",
      "detector_name      :XENONnT\n",
      "machine_time       :None\n",
      "detector_status    :ON\n",
      "is_test            :False\n",
      "meta               :\n",
      "sent_time          :2024-01-16T15:50:39.471556000\n"
     ]
    }
   ],
   "source": [
    "msg_hb.send_messages()"
   ]
  },
  {
   "cell_type": "markdown",
   "metadata": {},
   "source": [
    "### Heartbeat CLI \n",
    "\n",
    "```bash \n",
    "user:~$ snews_pt heartbeat --status ON --time \"2023-02-06T10:40:59.675226\"\n",
    "```\n",
    "where the `--time` refers to `machine_time` and is optional. (By default it is set equal to `sent_time` which is stamped upon execution)."
   ]
  },
  {
   "cell_type": "markdown",
   "metadata": {},
   "source": [
    "## Other features"
   ]
  },
  {
   "cell_type": "markdown",
   "metadata": {},
   "source": [
    "We try to provide some more tools that are convenient for the user such as testing the connection and requesting feedback on their last 24 hour heartbeat status. <br>\n",
    "\n",
    "The `test_connection` function injects a message into the coincidence stream with your detector name and current time, and labels it with `\"status\":\"sending\"`.<br>\n",
    "Server sees that this is a test message and sends the confirmation by duplicating the message and replacing the status field with `\"status\":\"received\"`. It then, sends this back on the connection-test broker, where your script reads and compares the message contents.<br>\n",
    "Once the same message with \"received\" status is found, it confirms the connection."
   ]
  },
  {
   "cell_type": "code",
   "execution_count": null,
   "metadata": {},
   "outputs": [],
   "source": [
    "test_connection()"
   ]
  },
  {
   "cell_type": "markdown",
   "metadata": {},
   "source": [
    "### Request Feedback"
   ]
  },
  {
   "cell_type": "markdown",
   "metadata": {},
   "source": [
    "At the server we keep the heartbeats in several different files. At any given time, the records of the last 24 hours is kept. Every day, the heartbeats of a given day is also stored separately and deleted after 7 days. <br>\n",
    "Authorized users can request feedback on their heartbeats within the last 24hours. This selects the data belonging to your experiment and computes some statistics regarding the status, arrival times and latencies and sends an email to your requested address(es) **only if** those emails are already registered by us under that experiment.   <br>\n",
    "This way, we prevent non-member and non-authorized people from accessing the heartbeat information of another experiment."
   ]
  },
  {
   "cell_type": "code",
   "execution_count": 52,
   "metadata": {},
   "outputs": [
    {
     "name": "stdout",
     "output_type": "stream",
     "text": [
      "Heartbeat Feedback is requested! Expect an email from us!\u001b[0m\n"
     ]
    }
   ],
   "source": [
    "get_feedback(detector_name=\"XENONnT\", email_address=\"kara@kit.edu\", firedrill=False)"
   ]
  },
  {
   "cell_type": "markdown",
   "metadata": {
    "pycharm": {
     "name": "#%% md\n"
    }
   },
   "source": [
    "## Bonus, integrating your custom scripts"
   ]
  },
  {
   "cell_type": "markdown",
   "metadata": {
    "pycharm": {
     "name": "#%% md\n"
    }
   },
   "source": [
    "If you have a follow-up script which uses the alert content and does more calculations, you can plug this script to subscribe function\n",
    "```bash\n",
    "snews_pt subscribe -p mycustomscript.py\n",
    "```\n",
    "\n",
    "> The `mycustomscript.py` should contain \n",
    "> ```python\n",
    "> import sys, json\n",
    "> data = json.load(open(sys.argv[1]))\n",
    "> ``` \n",
    "> then the `data` contains the alert content as a dictionary object."
   ]
  },
  {
   "cell_type": "markdown",
   "metadata": {},
   "source": [
    "---\n",
    "# Fire Drill"
   ]
  },
  {
   "cell_type": "markdown",
   "metadata": {},
   "source": [
    "Now let's run a fire drill together. \n",
    "- 1. Test your connection\n",
    "- 2. Open a separate notebook and start sending heartbeats"
   ]
  },
  {
   "cell_type": "code",
   "execution_count": 19,
   "metadata": {},
   "outputs": [],
   "source": [
    "from snews_pt.remote_commands import test_connection\n",
    "from snews_pt.messages import SNEWSMessageBuilder"
   ]
  },
  {
   "cell_type": "code",
   "execution_count": null,
   "metadata": {},
   "outputs": [],
   "source": [
    "test_connection()"
   ]
  },
  {
   "cell_type": "code",
   "execution_count": 8,
   "metadata": {},
   "outputs": [
    {
     "name": "stdout",
     "output_type": "stream",
     "text": [
      "You are XENONnT\u001b[0m\n"
     ]
    }
   ],
   "source": [
    "set_name(\"XENONnT\")"
   ]
  },
  {
   "cell_type": "code",
   "execution_count": 20,
   "metadata": {},
   "outputs": [
    {
     "name": "stdout",
     "output_type": "stream",
     "text": [
      "\u001b[94m----------------------------------------------------------------\u001b[0m\n",
      "\u001b[91mSending message to Heartbeat on kafka://kafka.scimma.org/snews.experiments-firedrill\u001b[0m\n",
      "_id                :XENONnT_Heartbeat_2024-01-16T15:51:05.612329000\n",
      "schema_version     :1.3.1\n",
      "detector_name      :XENONnT\n",
      "machine_time       :None\n",
      "detector_status    :ON\n",
      "is_test            :False\n",
      "meta               :\n",
      "\tfiredrill_mode     :True\n",
      "sent_time          :2024-01-16T15:51:05.646405000\n",
      "\u001b[94m----------------------------------------------------------------\u001b[0m\n",
      "\u001b[91mSending message to Heartbeat on kafka://kafka.scimma.org/snews.experiments-firedrill\u001b[0m\n",
      "_id                :XENONnT_Heartbeat_2024-01-16T15:51:12.281839000\n",
      "schema_version     :1.3.1\n",
      "detector_name      :XENONnT\n",
      "machine_time       :None\n",
      "detector_status    :ON\n",
      "is_test            :False\n",
      "meta               :\n",
      "\tfiredrill_mode     :True\n",
      "sent_time          :2024-01-16T15:51:12.296250000\n",
      "\u001b[94m----------------------------------------------------------------\u001b[0m\n",
      "\u001b[91mSending message to Heartbeat on kafka://kafka.scimma.org/snews.experiments-firedrill\u001b[0m\n",
      "_id                :XENONnT_Heartbeat_2024-01-16T15:51:17.649566000\n",
      "schema_version     :1.3.1\n",
      "detector_name      :XENONnT\n",
      "machine_time       :None\n",
      "detector_status    :ON\n",
      "is_test            :False\n",
      "meta               :\n",
      "\tfiredrill_mode     :True\n",
      "sent_time          :2024-01-16T15:51:17.683391000\n",
      "\u001b[94m----------------------------------------------------------------\u001b[0m\n",
      "\u001b[91mSending message to Heartbeat on kafka://kafka.scimma.org/snews.experiments-firedrill\u001b[0m\n",
      "_id                :XENONnT_Heartbeat_2024-01-16T15:51:24.809559000\n",
      "schema_version     :1.3.1\n",
      "detector_name      :XENONnT\n",
      "machine_time       :None\n",
      "detector_status    :ON\n",
      "is_test            :False\n",
      "meta               :\n",
      "\tfiredrill_mode     :True\n",
      "sent_time          :2024-01-16T15:51:24.822740000\n",
      "\u001b[94m----------------------------------------------------------------\u001b[0m\n",
      "\u001b[91mSending message to Heartbeat on kafka://kafka.scimma.org/snews.experiments-firedrill\u001b[0m\n",
      "_id                :XENONnT_Heartbeat_2024-01-16T15:51:31.481137000\n",
      "schema_version     :1.3.1\n",
      "detector_name      :XENONnT\n",
      "machine_time       :None\n",
      "detector_status    :ON\n",
      "is_test            :False\n",
      "meta               :\n",
      "\tfiredrill_mode     :True\n",
      "sent_time          :2024-01-16T15:51:31.496368000\n",
      "\u001b[94m----------------------------------------------------------------\u001b[0m\n",
      "\u001b[91mSending message to Heartbeat on kafka://kafka.scimma.org/snews.experiments-firedrill\u001b[0m\n",
      "_id                :XENONnT_Heartbeat_2024-01-16T15:51:37.332147000\n",
      "schema_version     :1.3.1\n",
      "detector_name      :XENONnT\n",
      "machine_time       :None\n",
      "detector_status    :ON\n",
      "is_test            :False\n",
      "meta               :\n",
      "\tfiredrill_mode     :True\n",
      "sent_time          :2024-01-16T15:51:37.351879000\n",
      "\u001b[94m----------------------------------------------------------------\u001b[0m\n",
      "\u001b[91mSending message to Heartbeat on kafka://kafka.scimma.org/snews.experiments-firedrill\u001b[0m\n",
      "_id                :XENONnT_Heartbeat_2024-01-16T15:51:43.177347000\n",
      "schema_version     :1.3.1\n",
      "detector_name      :XENONnT\n",
      "machine_time       :None\n",
      "detector_status    :ON\n",
      "is_test            :False\n",
      "meta               :\n",
      "\tfiredrill_mode     :True\n",
      "sent_time          :2024-01-16T15:51:43.192280000\n"
     ]
    }
   ],
   "source": [
    "import time\n",
    "for i in range(7):\n",
    "    time.sleep(2)\n",
    "    msg = SNEWSMessageBuilder(detector_status='ON', firedrill_mode=True) \n",
    "    msg.send_messages()"
   ]
  },
  {
   "cell_type": "code",
   "execution_count": 22,
   "metadata": {},
   "outputs": [],
   "source": [
    "from snews_pt.remote_commands import reset_cache"
   ]
  },
  {
   "cell_type": "code",
   "execution_count": 24,
   "metadata": {},
   "outputs": [
    {
     "name": "stdout",
     "output_type": "stream",
     "text": [
      "\u001b[34m\u001b[1m> Requesting to Reset the cache. If you have rights, cache will be reset\u001b[0m\n"
     ]
    }
   ],
   "source": [
    "reset_cache(firedrill=False)"
   ]
  },
  {
   "cell_type": "markdown",
   "metadata": {},
   "source": [
    "- 3. Create an observation message for your detector based on the times given below"
   ]
  },
  {
   "cell_type": "markdown",
   "metadata": {},
   "source": [
    "```json\n",
    "{\"JUNO\": {\"neutrino_time\": \"2023-02-07T12:00:00.000000\"}}, \n",
    "{\"HK\": {\"neutrino_time\": \"2023-02-07T12:00:00.001076\"}}, \n",
    "{\"KL\": {\"neutrino_time\": \"2023-02-07T12:00:00.001090\"}}, \n",
    "{\"SK\": {\"neutrino_time\": \"2023-02-07T12:00:00.001090\"}}, \n",
    "{\"PandaX-4T\": {\"neutrino_time\": \"2023-02-07T12:00:00.002390\"}}, \n",
    "{\"Baksan\": {\"neutrino_time\": \"2023-02-07T12:00:00.018629\"}}, \n",
    "{\"IC\": {\"neutrino_time\": \"2023-02-07T12:00:00.023424\"}}, \n",
    "{\"LVD\": {\"neutrino_time\": \"2023-02-07T12:00:00.026127\"}}, \n",
    "{\"DS-20K\": {\"neutrino_time\": \"2023-02-07T12:00:00.026127\"},\n",
    "{\"Borexino\":{\"neutrino_time\": \"2023-02-07T12:00:00.026127\"}}, \n",
    "{\"XENONnT\": {\"neutrino_time\": \"2023-02-07T12:00:00.026127\"}}\n",
    "{\"KM3\": {\"neutrino_time\": \"2023-02-07T12:00:00.026338\"}},\n",
    "{\"NOvA\": {\"neutrino_time\": \"2023-02-07T12:00:00.028417\"}}, \n",
    "{\"HALO-1kT\": {\"neutrino_time\": \"2023-02-07T12:00:00.030543\"}}, \n",
    "{\"SNOP\": {\"neutrino_time\": \"2023-02-07T12:00:00.030543\"}}, \n",
    "{\"SBND\": {\"neutrino_time\": \"2023-02-07T12:00:00.030548\"}}, \n",
    "{\"DUNE\": {\"neutrino_time\": \"2023-02-07T12:00:00.030548\"}}, \n",
    "{\"LZ\": {\"neutrino_time\": \"2023-02-07T12:00:00.030548\"}}, \n",
    "{\"MicroBooNe\": {\"neutrino_time\": \"2023-02-07T12:00:00.030548\"}}\n",
    "```"
   ]
  },
  {
   "cell_type": "markdown",
   "metadata": {},
   "source": [
    "These times should point to the candidate star Alf Ori at <br>RA: 88.79292 deg<br>\n",
    "DEC: 7.40706 deg"
   ]
  },
  {
   "cell_type": "code",
   "execution_count": 27,
   "metadata": {},
   "outputs": [
    {
     "name": "stdout",
     "output_type": "stream",
     "text": [
      "Message Generated for CoincidenceTier\n"
     ]
    }
   ],
   "source": [
    "msg = SNEWSMessageBuilder(neutrino_time=\"2023-02-07T12:00:00.026127\", is_test=True, firedrill_mode=True)"
   ]
  },
  {
   "cell_type": "code",
   "execution_count": 28,
   "metadata": {},
   "outputs": [
    {
     "name": "stdout",
     "output_type": "stream",
     "text": [
      "\u001b[94m----------------------------------------------------------------\u001b[0m\n",
      "\u001b[91mSending message to CoincidenceTier on kafka://kafka.scimma.org/snews.experiments-firedrill\u001b[0m\n",
      "_id                :19_CoincidenceTier_2023-06-02T15:21:10.414950\n",
      "detector_name      :XENONnT\n",
      "machine_time       :2023-06-02T15:21:10.414950\n",
      "neutrino_time      :2023-02-07T12:00:00.026127\n",
      "p_val              :None\n",
      "meta               :\n",
      "\tis_test            :True\n",
      "schema_version     :1.3.0\n",
      "sent_time          :2023-06-02T15:21:12.108085\n"
     ]
    }
   ],
   "source": [
    "msg.send_messages()"
   ]
  },
  {
   "cell_type": "markdown",
   "metadata": {},
   "source": [
    "- 4. On a separate notebook or a terminal subscribe to the alerts\n",
    "```bash\n",
    " user:~$ snews_pt subscribe\n",
    "```\n",
    "or \n",
    "\n",
    "```python\n",
    "from snews_pt.snews_sub import Subscriber\n",
    "Subscriber().subscribe()\n",
    "```"
   ]
  },
  {
   "cell_type": "markdown",
   "metadata": {},
   "source": [
    "- 5. send your observation to snews"
   ]
  },
  {
   "cell_type": "code",
   "execution_count": null,
   "metadata": {},
   "outputs": [],
   "source": []
  },
  {
   "cell_type": "code",
   "execution_count": null,
   "metadata": {},
   "outputs": [],
   "source": []
  }
 ],
 "metadata": {
  "kernelspec": {
   "display_name": "snews",
   "language": "python",
   "name": "snews"
  },
  "language_info": {
   "codemirror_mode": {
    "name": "ipython",
    "version": 3
   },
   "file_extension": ".py",
   "mimetype": "text/x-python",
   "name": "python",
   "nbconvert_exporter": "python",
   "pygments_lexer": "ipython3",
   "version": "3.9.7"
  },
  "vscode": {
   "interpreter": {
    "hash": "f581a8651b7bc0666f0167af942e3b60152ddbb51a5d7dbac8fd8281a3c56e84"
   }
  }
 },
 "nbformat": 4,
 "nbformat_minor": 1
}
