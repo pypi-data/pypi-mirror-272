{
 "cells": [
  {
   "cell_type": "markdown",
   "metadata": {},
   "source": [
    "<a href=\"https://colab.research.google.com/github/astrobatty/piszkespipe/blob/master/examples/run_piszkespipe.ipynb\" target=\"_parent\"><img src=\"https://colab.research.google.com/assets/colab-badge.svg\" alt=\"Open In Colab\"/></a>"
   ]
  },
  {
   "cell_type": "markdown",
   "metadata": {},
   "source": [
    "#### If you are in Google Colab, first install GSL"
   ]
  },
  {
   "cell_type": "code",
   "execution_count": null,
   "metadata": {},
   "outputs": [],
   "source": [
    "!apt-get install -y libgsl-dev"
   ]
  },
  {
   "cell_type": "markdown",
   "metadata": {},
   "source": [
    "Then the package"
   ]
  },
  {
   "cell_type": "code",
   "execution_count": null,
   "metadata": {},
   "outputs": [],
   "source": [
    "!pip install piszkespipe"
   ]
  },
  {
   "cell_type": "markdown",
   "metadata": {},
   "source": [
    "#### __After this step, you may have to restart the runtime.__"
   ]
  },
  {
   "cell_type": "markdown",
   "metadata": {},
   "source": [
    "## If you want to run the classification too, then you need to download the synthetic spectral library first\n",
    "\n",
    "As the result of the cross-crosselation is highly dependent on the broadening of the model spectral lines, it is suggested to estimate the line widths from the models. Otherwise, you may need to pass a list of line widths (reffile.txt)."
   ]
  },
  {
   "cell_type": "code",
   "execution_count": null,
   "metadata": {},
   "outputs": [],
   "source": [
    "!mkdir COELHO_MODELS\n",
    "!cd COELHO_MODELS; wget https://cloud.konkoly.hu/s/taT2qiSjpBwWWDr/download/coelho_05_red4_R40.tar.gz; tar -xf coelho_05_red4_R40.tar.gz\n",
    "\n",
    "import os\n",
    "os.environ['COELHO'] = '/content/COELHO_MODELS'"
   ]
  },
  {
   "cell_type": "markdown",
   "metadata": {},
   "source": [
    "## Running the pipeline with local files\n",
    "\n",
    "However, the pipeline can be directly called from python, it is better to use from the command line as intended."
   ]
  },
  {
   "cell_type": "code",
   "execution_count": null,
   "metadata": {},
   "outputs": [],
   "source": [
    "!piszkespipe -h"
   ]
  },
  {
   "cell_type": "markdown",
   "metadata": {},
   "source": [
    "Before running the script you need to collect your nightly/weekly observations in a directory, e.g. `my_observations`. Usually, this directory contains the\n",
    "- bias\n",
    "- dark\n",
    "- fiber flat\n",
    "- ThAr spectrum\n",
    "- science spectrum\n",
    "\n",
    "files. If you forgot to take flat frames, the pipeline will use the median of all science frames to trace echelle orders.\n",
    "\n",
    "In Google Colab, you can drag and drop your files to upload them to the cloud.\n",
    "\n",
    "Then the reduction can be started, now with CCF calculation and spectal classification as `-do_class` option is passed. The results will in be `./my_observations_red/`, and the useful final files will be in `./my_observations_red/proc/`."
   ]
  },
  {
   "cell_type": "code",
   "execution_count": null,
   "metadata": {},
   "outputs": [],
   "source": [
    "!piszkespipe ./my_observations -do_class"
   ]
  },
  {
   "cell_type": "markdown",
   "metadata": {},
   "source": [
    "## Running the pipeline with files stored in Google Drive\n",
    "\n",
    "In Google Colab, it is possible to link your Google Drive as an external storage. Let's assume that we have a directory called `my_observations`, then after mounting the Drive, the pipeline can be called with those files in your Drive. In this case the results will also be stored in your Drive, unless `-dirout` is specified."
   ]
  },
  {
   "cell_type": "code",
   "execution_count": null,
   "metadata": {},
   "outputs": [],
   "source": [
    "from google.colab import drive\n",
    "drive.mount('/content/drive')"
   ]
  },
  {
   "cell_type": "code",
   "execution_count": null,
   "metadata": {},
   "outputs": [],
   "source": [
    "!piszkespipe /content/drive/MyDrive/my_observations -do_class"
   ]
  }
 ],
 "metadata": {
  "kernelspec": {
   "display_name": "Python 3",
   "language": "python",
   "name": "python3"
  },
  "language_info": {
   "codemirror_mode": {
    "name": "ipython",
    "version": 3
   },
   "file_extension": ".py",
   "mimetype": "text/x-python",
   "name": "python",
   "nbconvert_exporter": "python",
   "pygments_lexer": "ipython3",
   "version": "3.7.6"
  }
 },
 "nbformat": 4,
 "nbformat_minor": 4
}
